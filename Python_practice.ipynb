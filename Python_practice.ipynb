{
 "cells": [
  {
   "cell_type": "code",
   "execution_count": 1,
   "metadata": {
    "collapsed": false
   },
   "outputs": [
    {
     "data": {
      "text/plain": [
       "9"
      ]
     },
     "execution_count": 1,
     "metadata": {},
     "output_type": "execute_result"
    }
   ],
   "source": [
    "#### find the sum of odd numbers\n",
    "def oddsumcal(list1):\n",
    "    sumodd = 0\n",
    "    for numb in list1:\n",
    "        if numb % 2 != 0:\n",
    "            sumodd = sumodd + numb\n",
    "    return sumodd\n",
    "numblist = [1,2,3,4,5,6]\n",
    "oddsumcal(numblist)"
   ]
  },
  {
   "cell_type": "code",
   "execution_count": 2,
   "metadata": {
    "collapsed": false
   },
   "outputs": [
    {
     "data": {
      "text/plain": [
       "False"
      ]
     },
     "execution_count": 2,
     "metadata": {},
     "output_type": "execute_result"
    }
   ],
   "source": [
    "### This function check if a given number is perfect or not, \n",
    "### i.e., the sum of all divisibles of the number (ecluding itself) is equal to the number\n",
    "def perfectnum(integ):\n",
    "    mysum = 0\n",
    "    for i in range(1, integ):\n",
    "        if integ%i == 0:\n",
    "            mysum = mysum + i\n",
    "    if mysum == integ:\n",
    "        return True\n",
    "    else:\n",
    "        return False\n",
    "    \n",
    "perfectnum(7)"
   ]
  },
  {
   "cell_type": "code",
   "execution_count": 4,
   "metadata": {
    "collapsed": false
   },
   "outputs": [],
   "source": [
    "### This function check if a given number is prime or not\n",
    "def primetest(integ):\n",
    "    i = 2\n",
    "    while i < integ : \n",
    "        if integ%i == 0:\n",
    "            break\n",
    "        i = i+1\n",
    "    if i == integ:\n",
    "        return(True)\n",
    "    else:\n",
    "        return(False)\n",
    "\n",
    "primetest(13)\n",
    "\n",
    "\n",
    "### or\n",
    "\n",
    "def primetest(n):\n",
    "    if n < 2:\n",
    "        return False\n",
    "    for i in range(2, n):\n",
    "        if n % i == 0:\n",
    "            return False\n",
    "    return True"
   ]
  },
  {
   "cell_type": "code",
   "execution_count": 7,
   "metadata": {
    "collapsed": false
   },
   "outputs": [
    {
     "data": {
      "text/plain": [
       "12"
      ]
     },
     "execution_count": 7,
     "metadata": {},
     "output_type": "execute_result"
    }
   ],
   "source": [
    "### This function returns the least common multiple (LCM) of two positive numbers\n",
    "def least_common_multiple(a, b):\n",
    "    copy_of_a = a\n",
    "    while (copy_of_a % b) != 0:\n",
    "        copy_of_a = copy_of_a + a\n",
    "    return copy_of_a\n",
    "\n",
    "least_common_multiple(6, 4)\n",
    "\n",
    "\n",
    "### or\n",
    "\n",
    "def least_common_multiple(a, b):\n",
    "    new_a = a\n",
    "    i = 2\n",
    "    while (new_a % b) != 0:\n",
    "        new_a = a*i\n",
    "        i = i+1\n",
    "    return new_a\n",
    "least_common_multiple(6, 4)"
   ]
  },
  {
   "cell_type": "code",
   "execution_count": 8,
   "metadata": {
    "collapsed": false
   },
   "outputs": [
    {
     "data": {
      "text/plain": [
       "[3, 6, 9, 12, 15]"
      ]
     },
     "execution_count": 8,
     "metadata": {},
     "output_type": "execute_result"
    }
   ],
   "source": [
    "### list the first five multiples of a number\n",
    "def list_of_multiples(k):\n",
    "    my_list = []\n",
    "    for i in range(1, 6):\n",
    "        multiple = k * i\n",
    "        my_list.append(multiple)\n",
    "    return my_list\n",
    "list_of_multiples(3)"
   ]
  },
  {
   "cell_type": "code",
   "execution_count": 9,
   "metadata": {
    "collapsed": false
   },
   "outputs": [
    {
     "data": {
      "text/plain": [
       "[2, 4, 6, 8, 10]"
      ]
     },
     "execution_count": 9,
     "metadata": {},
     "output_type": "execute_result"
    }
   ],
   "source": [
    "### list all the even numbers between a and b, excluding b but including a if even\n",
    "def even_list(a,b):\n",
    "    mylist = [] \n",
    "    for i in range(a, b):\n",
    "        if i%2 == 0:\n",
    "            mylist.append(i)\n",
    "    return mylist\n",
    "\n",
    "even_list(2,12)  "
   ]
  },
  {
   "cell_type": "code",
   "execution_count": 10,
   "metadata": {
    "collapsed": false
   },
   "outputs": [
    {
     "data": {
      "text/plain": [
       "[11, 9, 7, 5, 3]"
      ]
     },
     "execution_count": 10,
     "metadata": {},
     "output_type": "execute_result"
    }
   ],
   "source": [
    "### list all the odd numbers between a and b, including both a and b if applicable\n",
    "### list is created in a descending order\n",
    "def odd_list(a,b):\n",
    "    mylist = [] \n",
    "    for i in range(a, (b+1)):\n",
    "        if i%2 != 0:\n",
    "            mylist.append(i)\n",
    "    mylist.sort()\n",
    "    mylist.reverse()\n",
    "    return mylist\n",
    "\n",
    "odd_list(3,11)          \n"
   ]
  },
  {
   "cell_type": "code",
   "execution_count": 11,
   "metadata": {
    "collapsed": false
   },
   "outputs": [
    {
     "data": {
      "text/plain": [
       "[1,\n",
       " 1.2599210498948732,\n",
       " 1.4422495703074083,\n",
       " 1.5874010519681994,\n",
       " 1.7099759466766968,\n",
       " 1.8171205928321397,\n",
       " 1.912931182772389,\n",
       " 2.0,\n",
       " 2.080083823051904]"
      ]
     },
     "execution_count": 11,
     "metadata": {},
     "output_type": "execute_result"
    }
   ],
   "source": [
    "## Write a function that accepts a positive integer k and returns \n",
    "## the ascending sorted list of cube root values of all the numbers \n",
    "## from 1 to k (including 1 and not including k). \n",
    "## [if k is 1, your program should return an empty list]\n",
    "def cube_root(k):\n",
    "    if k == 1:\n",
    "        return [] \n",
    "    else:\n",
    "        mylist = [1] \n",
    "        for j in range(2, k):\n",
    "            cube_root_val = j**(1/3)\n",
    "            mylist.append(cube_root_val)\n",
    "        return mylist\n",
    "    \n",
    "cube_root(10)"
   ]
  },
  {
   "cell_type": "code",
   "execution_count": 12,
   "metadata": {
    "collapsed": true
   },
   "outputs": [],
   "source": [
    "### list all the odd numbers between a and b, including both a and b if applicable\n",
    "### list is created in a descending order\n",
    "def _list_of_odd_numbers_sample_(a, b):\n",
    "    output_list = []\n",
    "    number = b\n",
    "    while number >= a:\n",
    "        if number % 2 != 0:\n",
    "            output_list.append(number)\n",
    "        number = number - 1\n",
    "    return output_list"
   ]
  },
  {
   "cell_type": "code",
   "execution_count": 13,
   "metadata": {
    "collapsed": false
   },
   "outputs": [
    {
     "data": {
      "text/plain": [
       "[1, 2, 3, 6]"
      ]
     },
     "execution_count": 13,
     "metadata": {},
     "output_type": "execute_result"
    }
   ],
   "source": [
    "## Write a function that accepts a positive integer k and returns the list of all the divisors of k. \n",
    "## Your list should include both 1 and k.\n",
    "def divisors(k):\n",
    "    mylist = [] \n",
    "    for j in range(1,(k+1)):\n",
    "        if k%j == 0:\n",
    "            mylist.append(j)\n",
    "    return mylist\n",
    "divisors(6)"
   ]
  },
  {
   "cell_type": "code",
   "execution_count": 14,
   "metadata": {
    "collapsed": false
   },
   "outputs": [
    {
     "data": {
      "text/plain": [
       "[11, 9, 7, 5, 3]"
      ]
     },
     "execution_count": 14,
     "metadata": {},
     "output_type": "execute_result"
    }
   ],
   "source": [
    "### list all the odd numbers between a and b, including both a and b if applicable\n",
    "### list is created in a descending order\n",
    "def odd_list(a,b):\n",
    "    mylist = [] \n",
    "    for i in range(b, (a-1),-1):\n",
    "        if i%2 != 0:\n",
    "            mylist.append(i)\n",
    "    return mylist\n",
    "\n",
    "odd_list(3,11)  "
   ]
  },
  {
   "cell_type": "code",
   "execution_count": 15,
   "metadata": {
    "collapsed": false
   },
   "outputs": [
    {
     "data": {
      "text/plain": [
       "['john', 'henry', 'gita', 'jj']"
      ]
     },
     "execution_count": 15,
     "metadata": {},
     "output_type": "execute_result"
    }
   ],
   "source": [
    "## Write a function that accepts a list as input and returns a new list\n",
    "## which includes every other element in the original list.\n",
    "##Keep the first element, i.e. input_list[0]\n",
    "def list_element(list1):\n",
    "    val = len(list1)\n",
    "    mylist = [] \n",
    "    for val in range(0, val, 2):\n",
    "        list_elem = list1[val]\n",
    "        mylist.append(list_elem)\n",
    "    return mylist\n",
    "\n",
    "\n",
    "list2 = ['john', 'apple', 'henry', 'bhagawad', 'gita', 'upanishad',\"jj\"]\n",
    "list_element(list2)\n",
    "\n",
    "list3 = ['john', 'apple', 'henry', 'bhagawad', 'gita', 'upanishad']\n",
    "list_element(list3)\n",
    "list2[0:len(list2):2]"
   ]
  },
  {
   "cell_type": "code",
   "execution_count": 16,
   "metadata": {
    "collapsed": true
   },
   "outputs": [],
   "source": [
    "## Write a function that accepts a list as input and returns a new list\n",
    "## which includes every other element in the original list.\n",
    "##Keep the first element, i.e. input_list[0]\n",
    "\n",
    "def _every_other_element_sample_(sample_list):\n",
    "    output = []\n",
    "    length = len(sample_list)\n",
    "    output.append(sample_list[0])\n",
    "    for element in range(1, length):\n",
    "        if element % 2 == 0:\n",
    "            output.append(sample_list[element])\n",
    "    return output"
   ]
  },
  {
   "cell_type": "code",
   "execution_count": 17,
   "metadata": {
    "collapsed": false
   },
   "outputs": [
    {
     "data": {
      "text/plain": [
       "['Isha', 'Brahman', 'Brahman', 'Brahman', 'Sri']"
      ]
     },
     "execution_count": 17,
     "metadata": {},
     "output_type": "execute_result"
    }
   ],
   "source": [
    "#### Write a function that accepts a list\n",
    "### (which has a length of 4 or more) and a string and returns the list such that \n",
    "### the second through the fourth element  (index 1 through 3 both inclusive)\n",
    "### in the input list are replaced by the input string.\n",
    "\n",
    "def myfunc1(mylist, mystring):\n",
    "    for jj in range(1, 4):\n",
    "        mylist[jj] = mystring\n",
    "    return mylist\n",
    "\n",
    "input_list = [\"Isha\", \"Chandoygya\", \"Sri Vasya\", \"Mandukya\", \"Sri\"]\n",
    "input_string = \"Brahman\"\n",
    "myfunc1(input_list, input_string)"
   ]
  },
  {
   "cell_type": "code",
   "execution_count": 18,
   "metadata": {
    "collapsed": false
   },
   "outputs": [
    {
     "data": {
      "text/plain": [
       "[2, 3, 6, 7, 12, 21, 54, 87]"
      ]
     },
     "execution_count": 18,
     "metadata": {},
     "output_type": "execute_result"
    }
   ],
   "source": [
    "### Write a function that accepts a list of integers and returns \n",
    "### a new list which is the sorted version (ascending order) of the original list\n",
    "### (Original list should not be modified). You may NOT use the built in sort() \n",
    "### or sorted() functions. Notice that the original list should not be modified\n",
    "def mysortfunc(mylist):\n",
    "    mynewlist = []\n",
    "    mylist2 = mylist.copy()\n",
    "    a = min(mylist2)\n",
    "    mynewlist.append(a)\n",
    "    for ii in range(1, len(mylist2)):\n",
    "        mylist2.remove(a)\n",
    "        a = min(mylist2)\n",
    "        mynewlist.append(a)\n",
    "    return mynewlist\n",
    "            \n",
    "mylist1 = [6,21,2,87,3,54,7,12]\n",
    "mysortfunc(mylist1)"
   ]
  },
  {
   "cell_type": "code",
   "execution_count": 19,
   "metadata": {
    "collapsed": false
   },
   "outputs": [
    {
     "data": {
      "text/plain": [
       "[87, 67, 54, 35, 35, 21, 12, 7, 7, 7, 7, 6, 6, 6, 6, 6, 3, 2, 2]"
      ]
     },
     "execution_count": 19,
     "metadata": {},
     "output_type": "execute_result"
    }
   ],
   "source": [
    "### Write a function that accepts two lists both of which contain integers and returns \n",
    "### a new list which contains all the elements from both lists sorted in descending order.\n",
    "### Your new list should include duplicate elements if they exist.\n",
    "### Do NOT use the built in sort() or sorted() methods.\n",
    "def myfunc3(A,B):\n",
    "    mylist = A+B\n",
    "    mynewlist = []\n",
    "    a = max(mylist)\n",
    "    mynewlist.append(a)\n",
    "    for ii in range((len(mylist)-1),0,-1):\n",
    "        mylist.remove(a)\n",
    "        a = max(mylist)\n",
    "        mynewlist.append(a)\n",
    "    return mynewlist\n",
    "    \n",
    "A=[6,21,2,87,3,54,7,12,2,6,6]\n",
    "B = [6,7,7,6,7,35,67,35]\n",
    "myfunc3(A,B)"
   ]
  },
  {
   "cell_type": "code",
   "execution_count": 20,
   "metadata": {
    "collapsed": true
   },
   "outputs": [],
   "source": [
    "### Write a function that accepts two lists both of which contain integers and returns \n",
    "### a new list which contains all the elements from both lists sorted in descending order.\n",
    "### Your new list should include duplicate elements if they exist.\n",
    "### Do NOT use the built in sort() or sorted() methods.\n",
    "def merge_and_sort(a, b):\n",
    "    a.extend(b)\n",
    "    new_list = []\n",
    "    while a:\n",
    "        maximum = a[0]\n",
    "        for element in a:\n",
    "            if element > maximum:\n",
    "                maximum = element\n",
    "        new_list.append(maximum)\n",
    "        a.remove(maximum)\n",
    "    return new_list"
   ]
  },
  {
   "cell_type": "code",
   "execution_count": 21,
   "metadata": {
    "collapsed": true
   },
   "outputs": [],
   "source": [
    "###Write a function that accepts a list and return a new list \n",
    "##which contains all but the first and last elements of the original list.\n",
    "\n",
    "def myfunc(mylist):\n",
    "    mynewlist = mylist[:]\n",
    "    listlength = len(mynewlist)\n",
    "    return mynewlist[1:(listlength-1)]\n",
    "\n",
    "#### Best way\n",
    "def _list_manipulation_sample4_(input_list):\n",
    "    newlist = input_list[1:-1]\n",
    "    return newlist"
   ]
  },
  {
   "cell_type": "code",
   "execution_count": 22,
   "metadata": {
    "collapsed": false
   },
   "outputs": [
    {
     "data": {
      "text/plain": [
       "2"
      ]
     },
     "execution_count": 22,
     "metadata": {},
     "output_type": "execute_result"
    }
   ],
   "source": [
    "###Write a function that accepts a list and a value of an element and \n",
    "###returns the count of how many times that element appears in the list. \n",
    "###The behaviour of this function should be exactly like the list.count() method.\n",
    "###You may NOT use any built in list methods for this problem.\n",
    "def mycountfunc(myval,mylist):\n",
    "    mycount = 0\n",
    "    for val in mylist:\n",
    "        if val == myval:\n",
    "            mycount = mycount + 1\n",
    "    return mycount\n",
    "            \n",
    "mylistnew = ['hello', 22, 333, 3, 'hello', 4, 5, 6]\n",
    "myvalnew = 'hello'\n",
    "mycountfunc(myvalnew,mylistnew)"
   ]
  },
  {
   "cell_type": "code",
   "execution_count": 23,
   "metadata": {
    "collapsed": false
   },
   "outputs": [
    {
     "data": {
      "text/plain": [
       "[12, 4, 4, 6, 6]"
      ]
     },
     "execution_count": 23,
     "metadata": {},
     "output_type": "execute_result"
    }
   ],
   "source": [
    "###Write a function that accepts a list that contains positive integers\n",
    "###and returns a new list which contains all the elements from original\n",
    "###list but adds 1 to those elements which are odd\n",
    "def addoddfunc(mylist):\n",
    "    newlist = mylist[:]\n",
    "    for jj in range(0, len(newlist)):\n",
    "        if newlist[jj]%2:\n",
    "            newlist[jj] = newlist[jj]+1\n",
    "    return newlist\n",
    "\n",
    "addoddfunc( [12, 3, 4, 5, 6])"
   ]
  },
  {
   "cell_type": "code",
   "execution_count": 24,
   "metadata": {
    "collapsed": false
   },
   "outputs": [
    {
     "data": {
      "text/plain": [
       "28"
      ]
     },
     "execution_count": 24,
     "metadata": {},
     "output_type": "execute_result"
    }
   ],
   "source": [
    "###Write a function that accepts two lists both of which \n",
    "###consists of integers and returns the total sum of all \n",
    "###the odd integers from both lists.\n",
    "def oddsum(mylist1, mylist2):\n",
    "    mysum = 0\n",
    "    for kk in mylist1 :\n",
    "        if kk%2 :\n",
    "            mysum = mysum + kk\n",
    "    for jj in mylist2 :\n",
    "        if jj%2 :\n",
    "            mysum = mysum + jj\n",
    "    return mysum\n",
    "    \n",
    "mylist11 = [12, 3, 4, 5, 6]\n",
    "mylist22 = [7,9,3,1,2,8,4]\n",
    "oddsum(mylist11, mylist22)"
   ]
  },
  {
   "cell_type": "code",
   "execution_count": 25,
   "metadata": {
    "collapsed": false
   },
   "outputs": [
    {
     "data": {
      "text/plain": [
       "[1, 2, 3, 4, 5, 7]"
      ]
     },
     "execution_count": 25,
     "metadata": {},
     "output_type": "execute_result"
    }
   ],
   "source": [
    "###Write a function that accepts an input list and returns \n",
    "###a new list which contains only the unique elements\n",
    "###(Elements should only appear one time in the list and the \n",
    "###order of the elements must be preserved as the original list. ).\n",
    "\n",
    "def unique_list(sample_list):\n",
    "    output_list = []\n",
    "    for items in sample_list:\n",
    "        if items not in output_list:\n",
    "            output_list.append(items)\n",
    "    return output_list\n",
    "\n",
    "unique_list([1,2,2,3,4,5,3,7,3])\n",
    "        "
   ]
  },
  {
   "cell_type": "code",
   "execution_count": 26,
   "metadata": {
    "collapsed": false
   },
   "outputs": [
    {
     "data": {
      "text/plain": [
       "[1, 2, 3, 4, 5, 7]"
      ]
     },
     "execution_count": 26,
     "metadata": {},
     "output_type": "execute_result"
    }
   ],
   "source": [
    "###Write a function that accepts two input lists and returns \n",
    "###a new list which contains only the unique elements from both lists.\n",
    "def uniquefunc(mylist1, mylist2):\n",
    "    mynewlist = mylist1+mylist2\n",
    "    output_list = []\n",
    "    for items in mynewlist:\n",
    "        if items not in output_list:\n",
    "            output_list.append(items)\n",
    "    return output_list\n",
    "\n",
    "uniquefunc([1,2,2,3,4,5,3,7,3], [1,2,4,3,4,5,1,7,5]) "
   ]
  },
  {
   "cell_type": "code",
   "execution_count": 27,
   "metadata": {
    "collapsed": false
   },
   "outputs": [
    {
     "data": {
      "text/plain": [
       "['I', 'Love', 'Grapes', 'but', 'I', \"don't\", 'eat', 'apples']"
      ]
     },
     "execution_count": 27,
     "metadata": {},
     "output_type": "execute_result"
    }
   ],
   "source": [
    "###Write a function that accepts a list and returns a new list such that \n",
    "###the new list contains all the items of the old list in reverse order.\n",
    "###Note that this is NOT a sorting problem. Do NOT use the built in reverse() \n",
    "###method for this problem.\n",
    "def myreverse(mylist):\n",
    "    lastelem = mylist[0]\n",
    "    reversedlist = []\n",
    "    nn = len(mylist)\n",
    "    #for kk in range((nn-1),-1,-1):\n",
    "    for kk in range(-1,-nn-1,-1):\n",
    "        reversedlist.append(mylist[kk])\n",
    "    #reversedlist.append(lastelem)\n",
    "    return reversedlist\n",
    "\n",
    "mylist1 = ['apples', 'eat', \"don't\", 'I', 'but', 'Grapes', 'Love', 'I']\n",
    "myreverse(mylist1)"
   ]
  },
  {
   "cell_type": "code",
   "execution_count": 28,
   "metadata": {
    "collapsed": false
   },
   "outputs": [
    {
     "data": {
      "text/plain": [
       "12"
      ]
     },
     "execution_count": 28,
     "metadata": {},
     "output_type": "execute_result"
    }
   ],
   "source": [
    "##Write a code that accepts a list of integers \n",
    "##and returns the integer from the list that has the most divisors.\n",
    "##In case of a tie, return the first item that has the most divisors. \n",
    "\n",
    "def divisors(k):\n",
    "    mylist = [] \n",
    "    for j in range(1,(k+1)):\n",
    "        if k%j == 0:\n",
    "            mylist.append(j)\n",
    "    return len(mylist)\n",
    "\n",
    "def mostdivisors(mylist):\n",
    "    numdisorsold = 0\n",
    "    val = []\n",
    "    for j in mylist:\n",
    "        numdivisorsnew = divisors(j)\n",
    "        if numdisorsold < numdivisorsnew:\n",
    "            numdisorsold = numdivisorsnew\n",
    "            val = j   \n",
    "            #print(val)\n",
    "    return val\n",
    "mylist1 =  [8, 12, 18, 6]\n",
    "mostdivisors(mylist1)"
   ]
  },
  {
   "cell_type": "code",
   "execution_count": 29,
   "metadata": {
    "collapsed": false
   },
   "outputs": [
    {
     "data": {
      "text/plain": [
       "[3, 5, 7, 11]"
      ]
     },
     "execution_count": 29,
     "metadata": {},
     "output_type": "execute_result"
    }
   ],
   "source": [
    "###Write a code that accepts a positive integer n \n",
    "###and returns a sorted list (ascending order) \n",
    "###of all the prime numbers between 2 and n (including 2 but not including n)\n",
    "def primecheck(val):\n",
    "    for j in range(2,val):\n",
    "        if val%j == 0:\n",
    "            return False\n",
    "    return True\n",
    "        \n",
    "\n",
    "def primeorder(n):\n",
    "    primeval = 2\n",
    "    mylist = []\n",
    "    while (n-1) > primeval:\n",
    "        primeval = primeval + 1\n",
    "        if primecheck(primeval):\n",
    "            mylist.append(primeval)\n",
    "    return mylist\n",
    "        \n",
    "\n",
    "nn=12\n",
    "primeorder(nn)"
   ]
  },
  {
   "cell_type": "code",
   "execution_count": 30,
   "metadata": {
    "collapsed": false
   },
   "outputs": [
    {
     "data": {
      "text/plain": [
       "160"
      ]
     },
     "execution_count": 30,
     "metadata": {},
     "output_type": "execute_result"
    }
   ],
   "source": [
    "###Write a function named items_price that accepts two lists as parameters.\n",
    "###The first list contains the quantities of n different items, the second \n",
    "###list contains the prices that correspond to those n items respectively. \n",
    "###Now, calculate the total amount of money required to purchase those items. \n",
    "###Assume that both the lists will have equal lengths.\n",
    "\n",
    "def items_price(mylist1, mylist2):\n",
    "    nn = len(mylist1)\n",
    "    mysum = 0\n",
    "    for i in range(nn):\n",
    "        mysum = mysum + mylist1[i]*mylist2[i]\n",
    "    return mysum\n",
    "a = [2, 3, 5, 7, 9]\n",
    "b = [5, 8, 4, 1, 11]\n",
    "items_price(a,b)"
   ]
  },
  {
   "cell_type": "code",
   "execution_count": 31,
   "metadata": {
    "collapsed": false
   },
   "outputs": [
    {
     "data": {
      "text/plain": [
       "True"
      ]
     },
     "execution_count": 31,
     "metadata": {},
     "output_type": "execute_result"
    }
   ],
   "source": [
    "###Write a function named crazy_list that accepts a list as parameter and \n",
    "###returns a boolean (either True or False) based on whether or not the list \n",
    "###is the same forward and backwards.\n",
    "\n",
    "def crazy_list(mylist):\n",
    "    nn = len(mylist)\n",
    "    for j in range(nn):\n",
    "        if mylist[j] != mylist[-j-1]:\n",
    "            return False\n",
    "    return True\n",
    "list1 = [5, 6, 8, 9, 'PYTHON', 9, 8, 6, 5]\n",
    "crazy_list(list1)\n",
    "####betterway\n",
    "def crazy_list(mylist):\n",
    "    nn = int(len(mylist)/2)\n",
    "    for j in range(nn):\n",
    "        if mylist[j] != mylist[-j-1]:\n",
    "            return False\n",
    "    return True\n",
    "list1 = [5, 6, 8, 9, 'PYTHON', 9, 8, 6, 5]\n",
    "crazy_list(list1)\n"
   ]
  },
  {
   "cell_type": "code",
   "execution_count": 32,
   "metadata": {
    "collapsed": false
   },
   "outputs": [
    {
     "name": "stdout",
     "output_type": "stream",
     "text": [
      "615\n"
     ]
    }
   ],
   "source": [
    "####Write a function called pattern_sum that receives two single digit positive integers, \n",
    "###(k and m) as parameters and calculates and returns the total sum as: \n",
    "###k + kk + kkk + .... (the last number in the sequence should have m digits) \n",
    "def pattern_sum(k,m):\n",
    "    val = str(k)\n",
    "    mysum = 0\n",
    "    for j in range(1,(m+1)):\n",
    "        mysum += int(val*j)\n",
    "    return mysum\n",
    "        \n",
    "\n",
    "print(pattern_sum(5,3))"
   ]
  },
  {
   "cell_type": "code",
   "execution_count": 34,
   "metadata": {
    "collapsed": false
   },
   "outputs": [
    {
     "name": "stdout",
     "output_type": "stream",
     "text": [
      "[-7, 5, 8]\n",
      "None\n"
     ]
    }
   ],
   "source": [
    "###Write a function named unique_common that accepts \n",
    "###two lists both of which contain integers as parameters \n",
    "###and returns a sorted list (ascending order) which \n",
    "###contains unique common elements from both the lists. \n",
    "###If there are no common elements between the two lists, \n",
    "###then your function should return the keyword None \n",
    "\n",
    "def unique_common(mylist1,mylist2):\n",
    "    commonvallist = []\n",
    "    if len(mylist1)>len(mylist2):\n",
    "        for jj in mylist2:\n",
    "            if jj in mylist1:\n",
    "                commonvallist.append(jj)\n",
    "    else:\n",
    "        for jj in mylist1:\n",
    "            if jj in mylist2:\n",
    "                commonvallist.append(jj)\n",
    "    if len(commonvallist)==0:\n",
    "        return \"None\"\n",
    "    else:\n",
    "        unquecomvallist = []\n",
    "        for kk in commonvallist:\n",
    "            if kk not in unquecomvallist:\n",
    "                unquecomvallist.append(kk)\n",
    "        unquecomvallist.sort()\n",
    "        return unquecomvallist\n",
    "    \n",
    "print(unique_common([5, 6, -7, 8, 8, 9, 9, 10], [2, 4, 8, 8, 5, -7]))\n",
    "print(unique_common([5, 6, 7, 0], [3, 2, 3, 2]))\n",
    "\n",
    "#### or\n",
    "\n",
    "def unique_common(a, b):\n",
    "    common = []\n",
    "    for items in a:\n",
    "        if items in b:\n",
    "            common.append(items)\n",
    "    if not common:\n",
    "        return None\n",
    "    unique = []\n",
    "    for items in common[:]:\n",
    "        if items not in unique:\n",
    "            unique.append(items)\n",
    "    return sorted(unique)"
   ]
  },
  {
   "cell_type": "code",
   "execution_count": 35,
   "metadata": {
    "collapsed": true
   },
   "outputs": [],
   "source": [
    "##Write a function named find_gcd that accepts a list of positive integers and returns their \n",
    "##greatest common divisor (GCD). Your function should return 1 as the GCD if there are \n",
    "##no common factors between the integers. \n",
    "\n",
    "def gcd(my_list):\n",
    "    result = my_list[0]\n",
    "    for i in range(1, len(my_list)):\n",
    "        result = my_gcd(result, my_list[i])\n",
    "    return result\n",
    "  \n",
    "def my_gcd(a,b):\n",
    "    while b:\n",
    "        a, b = b, a%b\n",
    "    return a\n"
   ]
  },
  {
   "cell_type": "code",
   "execution_count": 36,
   "metadata": {
    "collapsed": false
   },
   "outputs": [
    {
     "data": {
      "text/plain": [
       "4"
      ]
     },
     "execution_count": 36,
     "metadata": {},
     "output_type": "execute_result"
    }
   ],
   "source": [
    "### This function returns the least common multiple (LCM) of two positive numbers\n",
    "def _least_common_multiple_sample_(a, b):\n",
    "    copy_of_a = a\n",
    "    while (copy_of_a % b) != 0:\n",
    "        copy_of_a = copy_of_a + a\n",
    "    return copy_of_a\n",
    "\n",
    "### This function returns the greatest common divisor (GCD) of two positive numbers\n",
    "def gcdfunc(a, b):\n",
    "    lcm = _least_common_multiple_sample_(a, b)\n",
    "    val = int((a*b)/lcm)\n",
    "    return val\n",
    "gcdfunc(4, 8)"
   ]
  },
  {
   "cell_type": "code",
   "execution_count": null,
   "metadata": {
    "collapsed": true
   },
   "outputs": [],
   "source": []
  }
 ],
 "metadata": {
  "kernelspec": {
   "display_name": "Python [default]",
   "language": "python",
   "name": "python3"
  },
  "language_info": {
   "codemirror_mode": {
    "name": "ipython",
    "version": 3
   },
   "file_extension": ".py",
   "mimetype": "text/x-python",
   "name": "python",
   "nbconvert_exporter": "python",
   "pygments_lexer": "ipython3",
   "version": "3.5.2"
  }
 },
 "nbformat": 4,
 "nbformat_minor": 2
}
