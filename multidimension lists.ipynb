{
 "cells": [
  {
   "cell_type": "code",
   "execution_count": 2,
   "metadata": {
    "collapsed": true
   },
   "outputs": [],
   "source": [
    "####Write a function which accepts a 2D list of numbers and returns\n",
    "##the sum of all the number in the list You can assume that \n",
    "###the number of columns in each row is the same. (Do not use python's built-in sum() function)\n",
    "\n",
    "def mysum(mylist):\n",
    "    mysum = 0\n",
    "    for i in mylist:\n",
    "        for j in i:\n",
    "            mysum += j\n",
    "    return mysum\n",
    "\n",
    "\n",
    "################### Another way ###################\n",
    "def _sum_of_a_2d_list_sample_(sample_2d_list):\n",
    "    # Initialize total sum to be 0\n",
    "    total_SUM = 0\n",
    "    # Get the length of rows and columns\n",
    "    number_of_rows = len(sample_2d_list)\n",
    "    number_of_columns = len(sample_2d_list[0])\n",
    "    # Initialize row index to 0\n",
    "    rows = 0\n",
    "    # Produce row indices 0, 1, 2, ...number_of_rows\n",
    "    while rows < number_of_rows:\n",
    "        # for each row, initialize the column index to 0\n",
    "        columns = 0\n",
    "        # Produce column indices 0, 1, 2, ... number_of_columns\n",
    "        while columns < number_of_columns:\n",
    "            # Added the element i.e. list[row][column] to total sum\n",
    "            total_SUM = total_SUM + sample_2d_list[rows][columns]\n",
    "            # Increment to the next column index\n",
    "            columns = columns + 1\n",
    "        # increment to the next row index\n",
    "        rows = rows + 1\n",
    "    # Finally return the total sum\n",
    "    return total_SUM\n",
    "\n"
   ]
  },
  {
   "cell_type": "code",
   "execution_count": 16,
   "metadata": {
    "collapsed": false
   },
   "outputs": [],
   "source": [
    "####Write a function that accepts a 2 Dimensional list of integers \n",
    "###and returns the average. Remember that average = (sum_of_all_items) / (total_number_of_items)\n",
    "\n",
    "def myaverage(my2Dlist):\n",
    "    mm = len(my2Dlist)\n",
    "    myavg = 0\n",
    "    for ii in my2Dlist:\n",
    "        nn = len(ii)\n",
    "        myavg += sum(ii)/nn\n",
    "    return myavg/mm\n",
    "\n",
    "myaverage([[1, 2, 3, 5], [5, -6, -9, 9], [2, 2, 2, 2], [1, 1, 1, 0]])\n",
    "\n",
    "\n",
    "\n",
    "################### Another way ###################\n",
    "def _average_of_a_2d_list_sample_(sample_2d_list):\n",
    "    # Initialize total sum to be 0\n",
    "    total_sum = 0\n",
    "    number_of_items=0\n",
    "    # Get the length of rows and columns\n",
    "    for row_index in range(len(sample_2d_list)):\n",
    "        for col_index in range(len(sample_2d_list[row_index])):\n",
    "            total_sum=total_sum+sample_2d_list[row_index][col_index]\n",
    "            number_of_items=number_of_items+1\n",
    "    return total_sum/number_of_items"
   ]
  },
  {
   "cell_type": "code",
   "execution_count": 27,
   "metadata": {
    "collapsed": false
   },
   "outputs": [
    {
     "data": {
      "text/plain": [
       "4"
      ]
     },
     "execution_count": 27,
     "metadata": {},
     "output_type": "execute_result"
    }
   ],
   "source": [
    "### Write a function that accepts a 2D list of integers and returns \n",
    "###the maximum EVEN value for the entire list. \n",
    "###You can assume that the number of columns in each row is the same. \n",
    "###Your function should return None if the list is empty or all the numbers in the 2D list are odd.\n",
    "###Do NOT use python's built in max() function.\n",
    "\n",
    "\n",
    "def even_max_func(mylist):\n",
    "    if not mylist:\n",
    "        return None\n",
    "    max_even = None\n",
    "    for innerlist in mylist:\n",
    "        for val in innerlist:\n",
    "            if val %2 == 0:\n",
    "                if max_even == None or max_even < val:\n",
    "                    max_even = val\n",
    "    return max_even\n",
    "            \n",
    "        \n",
    "\n",
    "mylist = [[1, 2, 3, 5], [4, -6, -9, 1], [2, 2, 2, 2], [1, 1, 1, 0]]\n",
    "#mylist = [[3,5,7],[9,5,1]]\n",
    "even_max_func(mylist)"
   ]
  },
  {
   "cell_type": "code",
   "execution_count": 34,
   "metadata": {
    "collapsed": false
   },
   "outputs": [
    {
     "data": {
      "text/plain": [
       "4"
      ]
     },
     "execution_count": 34,
     "metadata": {},
     "output_type": "execute_result"
    }
   ],
   "source": [
    "################### Sample Solution ###################\n",
    "def _maximum_even_value_sample_(sample_2d_list):\n",
    "    if not sample_2d_list: # list is empty\n",
    "        return None\n",
    "    result=None\n",
    "    for row in sample_2d_list:\n",
    "        row_max=_max_even_of_1d_list(row)\n",
    "        if row_max: ### is this if statement important?\n",
    "            if result==None or row_max>result:\n",
    "                result=row_max\n",
    "    return result\n",
    "\n",
    "def _max_even_of_1d_list(input_list):\n",
    "    result=None\n",
    "    for element in input_list:\n",
    "        if element%2 ==0: # if element is even\n",
    "            if result==None or element>result:\n",
    "                result=element\n",
    "    return result\n",
    " \n",
    "    \n",
    "mylist = [[1, 2, 3, 5], [4, -6, -9, 1], [2, 2, 2, 2], [1, 1, 1, 0]]\n",
    "_maximum_even_value_sample_(mylist)"
   ]
  },
  {
   "cell_type": "code",
   "execution_count": 37,
   "metadata": {
    "collapsed": false
   },
   "outputs": [
    {
     "data": {
      "text/plain": [
       "[11, -10, 8, 3]"
      ]
     },
     "execution_count": 37,
     "metadata": {},
     "output_type": "execute_result"
    }
   ],
   "source": [
    "### Write a function that takes a two-dimensional list (list of lists) of numbers \n",
    "###as argument and returns a list which includes the sum of each row. \n",
    "###You can assume that the number of columns in each row is the same.\n",
    "\n",
    "\n",
    "def mysum2D(mylist):\n",
    "    sum_list = []\n",
    "    for inner_list in mylist:\n",
    "        sum_list.append(sum(inner_list))\n",
    "    return sum_list\n",
    "        \n",
    "mylist = [[1, 2, 3, 5], [4, -6, -9, 1], [2, 2, 2, 2], [1, 1, 1, 0]]\n",
    "mysum2D(mylist)\n"
   ]
  },
  {
   "cell_type": "code",
   "execution_count": 44,
   "metadata": {
    "collapsed": false
   },
   "outputs": [
    {
     "data": {
      "text/plain": [
       "[8, -1, -3, 8]"
      ]
     },
     "execution_count": 44,
     "metadata": {},
     "output_type": "execute_result"
    }
   ],
   "source": [
    "### Write a function that takes a two-dimensional list (list of lists) of numbers \n",
    "###as argument and returns a list which includes the sum of each column. \n",
    "###Assume that the number of columns in each row is the same.\n",
    "\n",
    "def mycolsum(mylist):\n",
    "    num_cols = len(mylist[0])\n",
    "    colsum_list =  []   \n",
    "    for index in range(num_cols):\n",
    "            colsum = 0\n",
    "            for innerlists in mylist:\n",
    "                colsum += innerlists[index]\n",
    "                #print(colsum)\n",
    "            colsum_list.append(colsum)\n",
    "    return colsum_list\n",
    "\n",
    "mylist = [[1, 2, 3, 5], [4, -6, -9, 1], [2, 2, 2, 2], [1, 1, 1, 0]]\n",
    "mycolsum(mylist)"
   ]
  },
  {
   "cell_type": "code",
   "execution_count": 47,
   "metadata": {
    "collapsed": false
   },
   "outputs": [
    {
     "data": {
      "text/plain": [
       "[2, 2]"
      ]
     },
     "execution_count": 47,
     "metadata": {},
     "output_type": "execute_result"
    }
   ],
   "source": [
    "### Write a function that will receive a 2D list of integers. \n",
    "###The function should return the count of how many rows of \n",
    "###the list have even sums and the count of how many rows have odd sums.\n",
    "\n",
    "def sumcheck(mylist):\n",
    "    even_count = 0\n",
    "    odd_count = 0\n",
    "    for innerlists in mylist:\n",
    "        mysum = sum(innerlists)\n",
    "        if mysum%2 == 0:\n",
    "            even_count += 1\n",
    "        else:\n",
    "            odd_count += 1\n",
    "    return [even_count, odd_count]\n",
    "    \n",
    "mylist = [[1, 2, 3, 5], [4, -6, -9, 1], [2, 2, 2, 2], [1, 1, 1, 0]]\n",
    "sumcheck(mylist)\n"
   ]
  },
  {
   "cell_type": "code",
   "execution_count": 49,
   "metadata": {
    "collapsed": false
   },
   "outputs": [
    {
     "data": {
      "text/plain": [
       "[5, 4, 2, 1]"
      ]
     },
     "execution_count": 49,
     "metadata": {},
     "output_type": "execute_result"
    }
   ],
   "source": [
    "#### Write a function that takes a two-dimensional \n",
    "###list (list of lists) of numbers as argument and returns \n",
    "####a list which includes the maximum value of each row.\n",
    "\n",
    "def max_val_row(mylist):\n",
    "    max_list = []\n",
    "    for innerlists in mylist:\n",
    "            max_list.append(max(innerlists))\n",
    "    return max_list\n",
    "\n",
    "    \n",
    "mylist = [[1, 2, 3, 5], [4, -6, -9, 1], [2, 2, 2, 2], [1, 1, 1, 0]]\n",
    "max_val_row(mylist)"
   ]
  },
  {
   "cell_type": "code",
   "execution_count": 50,
   "metadata": {
    "collapsed": false
   },
   "outputs": [
    {
     "data": {
      "text/plain": [
       "[4, 2, 3, 5]"
      ]
     },
     "execution_count": 50,
     "metadata": {},
     "output_type": "execute_result"
    }
   ],
   "source": [
    "#### Write a function that takes a two-dimensional list (list of lists) \n",
    "###of numbers as argument and returns a list which includes the maximum value of each column. \n",
    "####Assume that the length of columns is consistent in each row.\n",
    "\n",
    "\n",
    "def max_val_col(mylist):\n",
    "    max_list = []\n",
    "    num_cols = len(mylist[0])\n",
    "    for index in range(num_cols):\n",
    "        col_val = []\n",
    "        for innerlists in mylist:\n",
    "            col_val.append(innerlists[index])\n",
    "        max_list.append(max(col_val))\n",
    "    return max_list\n",
    "            \n",
    "        \n",
    "mylist = [[1, 2, 3, 5], [4, -6, -9, 1], [2, 2, 2, 2], [1, 1, 1, 0]]\n",
    "max_val_col(mylist)  \n"
   ]
  },
  {
   "cell_type": "code",
   "execution_count": 51,
   "metadata": {
    "collapsed": true
   },
   "outputs": [],
   "source": [
    "###################Another way ###################\n",
    "def _max_of_columns_sample_(sample_list):\n",
    "    cols = len(sample_list[0])\n",
    "    mylist = []\n",
    "    for c in range(cols):\n",
    "        column_max = 0\n",
    "        for row in sample_list:\n",
    "            if row[c] > column_max:\n",
    "                column_max = row[c]\n",
    "        mylist.append(column_max)\n",
    "    return mylist"
   ]
  },
  {
   "cell_type": "code",
   "execution_count": 52,
   "metadata": {
    "collapsed": true
   },
   "outputs": [],
   "source": [
    "####Write a function that accepts a 2-dimensional list of integers, \n",
    "####and returns a sorted (ascending order) 1-Dimensional list containing \n",
    "####all the integers from the original 2-dimensional list.\n",
    "\n",
    "\n",
    "def _2d_to_1d_list_sample_(_2d_list):\n",
    "    output_list = []\n",
    "    for rows in _2d_list:\n",
    "        for items in rows:\n",
    "            output_list.append(items)\n",
    "    output_list.sort()\n",
    "    return output_list\n",
    "\n",
    "\n"
   ]
  },
  {
   "cell_type": "code",
   "execution_count": 60,
   "metadata": {
    "collapsed": false
   },
   "outputs": [
    {
     "data": {
      "text/plain": [
       "[[5, 3, 2, 1], [4, 1, -6, -9], [2, 2, 2, 2], [1, 1, 1, 0]]"
      ]
     },
     "execution_count": 60,
     "metadata": {},
     "output_type": "execute_result"
    }
   ],
   "source": [
    "#### Write a function that accepts a 2-dimensional list of integers, \n",
    "####and sorts (descending order) all the elements inside each row \n",
    "####and returns the sorted 2-dimensional list.\n",
    "\n",
    "def ordered2Dlist(mylist):\n",
    "    out_put_2Dlist = []\n",
    "    for innerlists in mylist:\n",
    "        newinnerlists = sorted(innerlists)\n",
    "        newinnerlists.reverse()\n",
    "        out_put_2Dlist.append(newinnerlists)\n",
    "    return out_put_2Dlist\n",
    "\n",
    "        \n",
    "mylist = [[1, 2, 3, 5], [4, -6, -9, 1], [2, 2, 2, 2], [1, 1, 1, 0]]\n",
    "ordered2Dlist(mylist)\n",
    "\n"
   ]
  },
  {
   "cell_type": "code",
   "execution_count": 61,
   "metadata": {
    "collapsed": false
   },
   "outputs": [],
   "source": [
    "################### Another way ###################\n",
    "def _2d_rows_sorted_sample_(_2d_list):\n",
    "    for rows in _2d_list:\n",
    "        rows.sort(reverse=True)\n",
    "    return _2d_list"
   ]
  },
  {
   "cell_type": "code",
   "execution_count": 63,
   "metadata": {
    "collapsed": false
   },
   "outputs": [],
   "source": [
    "#### Write a function that accepts two (matrices) \n",
    "####2 dimensional lists a and b of unknown lengths \n",
    "####and returns True if they can be multiplied together False otherwise. \n",
    "###Hint: Two matrices a and b can be multiplied together only if \n",
    "###the number of columns of the first matrix(a) is the same as the number of rows of the second matrix(b).\n",
    "\n",
    "def multcheck2matrices(a,b):\n",
    "    a_cols = len(a[0])\n",
    "    b_rows = len(b)\n",
    "    if a_cols == b_rows:\n",
    "        return True\n",
    "    else:\n",
    "        return False\n",
    "    \n",
    "\n"
   ]
  },
  {
   "cell_type": "code",
   "execution_count": 65,
   "metadata": {
    "collapsed": true
   },
   "outputs": [],
   "source": [
    "#### Write a function that accepts two (matrices) 2 dimensional \n",
    "###lists a and b of unknown lengths and returns their product. \n",
    "####Hint: Two matrices a and b can be multiplied together only \n",
    "###if the number of columns of the first matrix(a) is the same as \n",
    "###the number of rows of the second matrix(b). Hint: You may import \n",
    "####and use the numpy module but your return must be a python list not a numpy array.\n",
    "\n",
    "def _product_of_two_vectors_sample_(a, b):\n",
    "    import numpy\n",
    "    product = (numpy.mat(a) * numpy.mat(b))     # returns a numpy array\n",
    "    product_to_list = product.tolist()          # convert the numpy array to a standard list\n",
    "    return product_to_list"
   ]
  },
  {
   "cell_type": "code",
   "execution_count": 69,
   "metadata": {
    "collapsed": false
   },
   "outputs": [
    {
     "data": {
      "text/plain": [
       "[[[1, 2, 3, 5, 1, 4, 2, 1],\n",
       "  [4, -6, -9, 1, 2, -6, 2, 1],\n",
       "  [2, 2, 2, 2, 3, -9, 2, 1],\n",
       "  [1, 1, 1, 0, 5, 1, 2, 0]],\n",
       " [[1, 2, 3, 5, 1, 4, 2, 1],\n",
       "  [4, -6, -9, 1, 2, -6, 2, 1],\n",
       "  [2, 2, 2, 2, 3, -9, 2, 1],\n",
       "  [1, 1, 1, 0, 5, 1, 2, 0]],\n",
       " [[1, 2, 3, 5, 1, 4, 2, 1],\n",
       "  [4, -6, -9, 1, 2, -6, 2, 1],\n",
       "  [2, 2, 2, 2, 3, -9, 2, 1],\n",
       "  [1, 1, 1, 0, 5, 1, 2, 0]],\n",
       " [[1, 2, 3, 5, 1, 4, 2, 1],\n",
       "  [4, -6, -9, 1, 2, -6, 2, 1],\n",
       "  [2, 2, 2, 2, 3, -9, 2, 1],\n",
       "  [1, 1, 1, 0, 5, 1, 2, 0]]]"
      ]
     },
     "execution_count": 69,
     "metadata": {},
     "output_type": "execute_result"
    }
   ],
   "source": [
    "#### Write a function that accepts two (matrices) 2 dimensional lists \n",
    "####a and b of unknown lengths and returns their product. \n",
    "###3Hint: Two matrices a and b can be multiplied together only if \n",
    "####the number of columns of the first matrix(a) is the same as the number \n",
    "####of rows of the second matrix(b). Do NOT use numpy module for this exercise. \n",
    "####The input for this function will be two 2 Dimensional lists. \n",
    "\n",
    "def col2Dlist(mymat):\n",
    "    cols = len(mymat[0])\n",
    "    mylist = []\n",
    "    for c in range(cols):\n",
    "        col_list = []\n",
    "        for innerlists in mymat:\n",
    "            col_list.append(innerlists[c])\n",
    "        mylist.append(col_list)\n",
    "    return mylist\n",
    "#mylist = [[1, 2, 3, 5], [4, -6, -9, 1], [2, 2, 2, 2], [1, 1, 1, 0]]\n",
    "#col2Dlist(mylist)\n",
    "\n",
    "def mult2matrices(a,b):\n",
    "    b_arranged = col2Dlist(b)\n",
    "    a_cols = len(a)\n",
    "    b_rows = len(a[0])\n",
    "    new2dlist = []\n",
    "    for i in range(a_cols):\n",
    "        new1dlist = []\n",
    "        for j in range(b_rows):\n",
    "            mysum = a[j] + b_arranged[j]\n",
    "            new1dlist.append(mysum)\n",
    "        new2dlist.append(new1dlist)\n",
    "    return new2dlist\n",
    "        \n",
    "    \n",
    "            \n",
    "a = [[1, 2, 3, 5], [4, -6, -9, 1], [2, 2, 2, 2], [1, 1, 1, 0]]\n",
    "b = [[1, 2, 3, 5], [4, -6, -9, 1], [2, 2, 2, 2], [1, 1, 1, 0]]\n",
    "\n",
    "mult2matrices(a,b)"
   ]
  },
  {
   "cell_type": "code",
   "execution_count": 70,
   "metadata": {
    "collapsed": true
   },
   "outputs": [],
   "source": [
    "def _product_of_two_vectors_sample_(a, b):\n",
    "    if len(a[0]) != len(b):\n",
    "        return None\n",
    "    # Create the result matrix and fill it with zeros\n",
    "    output_list=[]\n",
    "    temp_row=len(b[0])*[0]\n",
    "    for r in range(len(a)):\n",
    "        output_list.append(temp_row[:])\n",
    "    for row_index in range(len(a)):\n",
    "        for col_index in range(len(b[0])):\n",
    "            sum=0\n",
    "            for k in range(len(a[0])):\n",
    "                sum=sum+a[row_index][k]*b[k][col_index]\n",
    "            output_list[row_index][col_index]=sum\n",
    "    return output_list"
   ]
  },
  {
   "cell_type": "code",
   "execution_count": null,
   "metadata": {
    "collapsed": true
   },
   "outputs": [],
   "source": []
  }
 ],
 "metadata": {
  "anaconda-cloud": {},
  "kernelspec": {
   "display_name": "Python [default]",
   "language": "python",
   "name": "python3"
  },
  "language_info": {
   "codemirror_mode": {
    "name": "ipython",
    "version": 3
   },
   "file_extension": ".py",
   "mimetype": "text/x-python",
   "name": "python",
   "nbconvert_exporter": "python",
   "pygments_lexer": "ipython3",
   "version": "3.5.2"
  }
 },
 "nbformat": 4,
 "nbformat_minor": 1
}
