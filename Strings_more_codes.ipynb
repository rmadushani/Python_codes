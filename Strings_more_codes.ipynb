{
 "cells": [
  {
   "cell_type": "code",
   "execution_count": 1,
   "metadata": {
    "collapsed": false
   },
   "outputs": [
    {
     "data": {
      "text/plain": [
       "6"
      ]
     },
     "execution_count": 1,
     "metadata": {},
     "output_type": "execute_result"
    }
   ],
   "source": [
    "#### count consonant in a string\n",
    "\n",
    "\n",
    "\n",
    "#### Write a function named count_consonants\n",
    "###that receives a string as parameter and returns\n",
    "###the total count of the consonants in the string.\n",
    "###Consonants are all the characters in the english\n",
    "###alphabet except for 'a', 'e', 'i', 'o', 'u'. If the same \n",
    "###consonant repeats multiple times you should count all of them. \n",
    "###Note that capitalization and punctuation does not matter here \n",
    "###i.e. a lower case character should be considered the same as an upper case character.\n",
    "\n",
    "\n",
    "\n",
    "def count_consonants(mystring):\n",
    "    mystringnew = mystring.replace(\" \",\"\")\n",
    "    mystringnew = mystringnew.lower()\n",
    "    vowels = \"aeiou\"\n",
    "    mycount = 0\n",
    "    for char in mystringnew:\n",
    "        if char not in vowels:\n",
    "            mycount += 1\n",
    "    return mycount\n",
    "\n",
    "string =\"   Hello   There\"\n",
    "count_consonants(string)\n"
   ]
  },
  {
   "cell_type": "code",
   "execution_count": 4,
   "metadata": {
    "collapsed": false
   },
   "outputs": [
    {
     "data": {
      "text/plain": [
       "'Madushani'"
      ]
     },
     "execution_count": 4,
     "metadata": {},
     "output_type": "execute_result"
    }
   ],
   "source": [
    "###find the longest word\n",
    "\n",
    "\n",
    "###Write a function that \n",
    "###receives a string as parameter and returns \n",
    "###the longest word in the string. Assume that the \n",
    "###input to this function is a string of words consisting of \n",
    "###alphabetic characters that are separated by space(s). \n",
    "###In case of a tie between some words return the last one that occurs.\n",
    "\n",
    "def longest_word(mystring):\n",
    "    mylist = mystring.split()\n",
    "    mylengthold = 0\n",
    "    for words in mylist:\n",
    "        mylengthnew = len(words)\n",
    "        if mylengthnew >= mylengthold:\n",
    "            mylengthold = mylengthnew\n",
    "            myword = words\n",
    "    return myword\n",
    "string =\"   Hello   There how are you Madushani\"\n",
    "longest_word(string)\n"
   ]
  },
  {
   "cell_type": "code",
   "execution_count": 18,
   "metadata": {
    "collapsed": false
   },
   "outputs": [
    {
     "data": {
      "text/plain": [
       "False"
      ]
     },
     "execution_count": 18,
     "metadata": {},
     "output_type": "execute_result"
    }
   ],
   "source": [
    "### check anagrams\n",
    "\n",
    "\n",
    "#######Write a function named test_for_anagrams that receives \n",
    "###two strings as parameters, both of which consist of alphabetic \n",
    "####characters and returns True if the two strings are anagrams, \n",
    "####False otherwise. Two strings are anagrams if one string can be \n",
    "###constructed by rearranging the characters in the other string u\n",
    "###sing all the characters in the original string exactly once. \n",
    "###For example, the strings \"Orchestra\" and \"Carthorse\" are anagrams \n",
    "###because each one can be constructed by rearranging the characters \n",
    "###in the other one using all the characters in one of them exactly once. \n",
    "###Note that capitalization does not matter here i.e. a lower case \n",
    "###character can be considered the same as an upper case character\n",
    "\n",
    "def test_for_anagrams(my_string1, my_string2):\n",
    "    mystring1 = my_string1.lower()\n",
    "    mystring2 = my_string2.lower()\n",
    "    if len(my_string1) == len(my_string2):\n",
    "        while len(mystring1) > 1:\n",
    "            char = mystring1[0]\n",
    "            if char in mystring2:\n",
    "                mystring1 =  mystring1.replace(char,\"\",1)\n",
    "                mystring2 =  mystring2.replace(char,\"\",1)\n",
    "            else:\n",
    "                return False\n",
    "        return True\n",
    "    return False\n",
    "\n",
    "test_for_anagrams(\"Orchestra\", \"Carthorsa\")\n",
    "        \n",
    "            \n",
    "                \n",
    "################### Another way ###################\n",
    "def _are_anagrams_sample_(sample_string1, sample_string2):\n",
    "    if sorted(sample_string1.lower()) == sorted(sample_string2.lower()):\n",
    "        return True\n",
    "    else:\n",
    "        return False           \n",
    "\n"
   ]
  },
  {
   "cell_type": "code",
   "execution_count": 21,
   "metadata": {
    "collapsed": false
   },
   "outputs": [
    {
     "data": {
      "text/plain": [
       "[' ', 'a', 'c', 'e', 'h', 'o', 'r', 'r', 's', 't']"
      ]
     },
     "execution_count": 21,
     "metadata": {},
     "output_type": "execute_result"
    }
   ],
   "source": [
    "sorted(\"Orche stra\".lower())"
   ]
  },
  {
   "cell_type": "code",
   "execution_count": 24,
   "metadata": {
    "collapsed": false
   },
   "outputs": [],
   "source": [
    "#\"Orche stra\".sort() ### does not work"
   ]
  },
  {
   "cell_type": "code",
   "execution_count": 36,
   "metadata": {
    "collapsed": false
   },
   "outputs": [
    {
     "name": "stdout",
     "output_type": "stream",
     "text": [
      "True\n"
     ]
    }
   ],
   "source": [
    "def my_encryption(some_string):\n",
    "    character_set = \"abcdefghijklmnopqrstuvwxyzABCDEFGHIJKLMNOPQRSTUVWXYZ0123456789 \"\n",
    "    secret_key    = \"Dd18Abz2EqNPW hYTOjBvtVlpXaH6msFUICg4o0KZwJeryQx3f9kSinRu5L7cGM\"\n",
    "    output_string = \"\"\n",
    "    for char in some_string:\n",
    "        if char in character_set:\n",
    "            index = character_set.find(char)\n",
    "            output_string += secret_key[index]\n",
    "    return output_string\n",
    "            \n",
    "string = \"Lets meet at the usual place at 9 am\"\n",
    "encript = my_encryption(string)\n",
    "print(\"oABjMWAABMDBMB2AMvjvDPMYPD1AMDBMGMDW\"==encript)"
   ]
  },
  {
   "cell_type": "code",
   "execution_count": null,
   "metadata": {
    "collapsed": false
   },
   "outputs": [],
   "source": [
    "\n"
   ]
  },
  {
   "cell_type": "code",
   "execution_count": null,
   "metadata": {
    "collapsed": true
   },
   "outputs": [],
   "source": []
  }
 ],
 "metadata": {
  "kernelspec": {
   "display_name": "Python [default]",
   "language": "python",
   "name": "python3"
  },
  "language_info": {
   "codemirror_mode": {
    "name": "ipython",
    "version": 3
   },
   "file_extension": ".py",
   "mimetype": "text/x-python",
   "name": "python",
   "nbconvert_exporter": "python",
   "pygments_lexer": "ipython3",
   "version": "3.5.2"
  }
 },
 "nbformat": 4,
 "nbformat_minor": 1
}
