{
 "cells": [
  {
   "cell_type": "code",
   "execution_count": 1,
   "metadata": {
    "collapsed": false
   },
   "outputs": [
    {
     "name": "stdout",
     "output_type": "stream",
     "text": [
      "Enter a positive integer:6\n",
      "1\n",
      "22\n",
      "333\n",
      "4444\n",
      "55555\n",
      "666666\n"
     ]
    }
   ],
   "source": [
    "##Write a program using while loops that asks the user for a positive integer \n",
    "##'n' and prints a triangle using numbers from 1 to 'n'.\n",
    "\n",
    "\n",
    "myval = int(input(\"Enter a positive integer:\"))\n",
    "start = 1\n",
    "while start <= myval:\n",
    "    print(str(start)*start)\n",
    "    start += 1\n",
    "    "
   ]
  },
  {
   "cell_type": "code",
   "execution_count": 2,
   "metadata": {
    "collapsed": false
   },
   "outputs": [
    {
     "name": "stdout",
     "output_type": "stream",
     "text": [
      "Enter a positive integer:5\n",
      "*****\n",
      "*****\n",
      "*****\n",
      "*****\n",
      "*****\n"
     ]
    }
   ],
   "source": [
    "##Write a program that asks the user for an input 'n' and prints a square of n by n asterisks \"*\"\n",
    "myval = int(input(\"Enter a positive integer:\"))\n",
    "mystr = '*'*myval\n",
    "for i in range(1,(myval+1)):\n",
    "    print(mystr)"
   ]
  },
  {
   "cell_type": "code",
   "execution_count": 3,
   "metadata": {
    "collapsed": false
   },
   "outputs": [
    {
     "name": "stdout",
     "output_type": "stream",
     "text": [
      "Enter a positive integer:7\n",
      "*******\n",
      "******\n",
      "*****\n",
      "****\n",
      "***\n",
      "**\n",
      "*\n"
     ]
    }
   ],
   "source": [
    "myval = int(input(\"Enter a positive integer:\"))\n",
    "start = myval\n",
    "while start >= 1:\n",
    "    print('*'*start)\n",
    "    start -= 1"
   ]
  },
  {
   "cell_type": "code",
   "execution_count": 5,
   "metadata": {
    "collapsed": false
   },
   "outputs": [
    {
     "name": "stdout",
     "output_type": "stream",
     "text": [
      "Enter a positive integer:6\n",
      "******\n",
      "*   *\n",
      "*  *\n",
      "* *\n",
      "**\n",
      "*\n"
     ]
    }
   ],
   "source": [
    "###Write a program that asks the user for an input 'n' \n",
    "##(assume that the user enters a positive integer) and \n",
    "###prints only the boundaries of the triangle using asterisks \"*\" of height 'n'.\n",
    "myval = int(input(\"Enter a positive integer:\"))\n",
    "print('*'*myval)\n",
    "if myval > 1:\n",
    "    start = myval-1\n",
    "    while start > 1:\n",
    "        print('*'+ \" \"*(start-2)+'*')\n",
    "        start -= 1\n",
    "    print('*')"
   ]
  },
  {
   "cell_type": "code",
   "execution_count": 6,
   "metadata": {
    "collapsed": true
   },
   "outputs": [],
   "source": [
    "###Write a function that accepts an input string\n",
    "###consisting of alphabetic characters and removes all the \n",
    "###leading whitespace of the string and returns it without using .strip().\n",
    "\n",
    "def _remove_leading_whitespace_sample_(string):\n",
    "    my_index = None\n",
    "    for x in range(0, len(string)):\n",
    "        if string[x] != \" \":\n",
    "            my_index = x\n",
    "            break\n",
    "    # slice the string from that index to the end\n",
    "    new_string = string[my_index::]\n",
    "    return new_string"
   ]
  },
  {
   "cell_type": "code",
   "execution_count": 7,
   "metadata": {
    "collapsed": true
   },
   "outputs": [],
   "source": [
    "###Write a function that accepts an input string consisting \n",
    "###of alphabetic characters and removes all the trailing whitespace \n",
    "###of the string and returns it without using any .strip() method.\n",
    "\n",
    "def _remove_trailing_whitespace_sample_(string):\n",
    "    my_index = None\n",
    "    i = len(string)\n",
    "    while i > 0:\n",
    "        if string[i-1] != \" \":\n",
    "            my_index = i\n",
    "            break\n",
    "        i = i - 1\n",
    "    # slice the string from 0 to that index\n",
    "    new_string = string[:my_index]\n",
    "    return new_string"
   ]
  },
  {
   "cell_type": "code",
   "execution_count": 8,
   "metadata": {
    "collapsed": true
   },
   "outputs": [],
   "source": [
    "###Write a function which accepts an input string consisting of alphabetic characters \n",
    "###and spaces and returns the string with all the spaces removed. \n",
    "###Do NOT use any string methods for this problem.\n",
    "\n",
    "def _remove_spaces_sample_(string):\n",
    "    out_string = \"\"\n",
    "    for x in range(0, len(string)):\n",
    "        if string[x] != \" \":\n",
    "            out_string = out_string + string[x]\n",
    "    return out_string"
   ]
  },
  {
   "cell_type": "code",
   "execution_count": 9,
   "metadata": {
    "collapsed": false
   },
   "outputs": [
    {
     "data": {
      "text/plain": [
       "'I ereht  olleH    '"
      ]
     },
     "execution_count": 9,
     "metadata": {},
     "output_type": "execute_result"
    }
   ],
   "source": [
    "###Reverse a string\n",
    "def myteversefunc(mystring):\n",
    "    out = \"\"\n",
    "    for j in mystring:\n",
    "        out = j + out\n",
    "    return out\n",
    "string = \"    Hello  there I\"\n",
    "myteversefunc(string)\n"
   ]
  },
  {
   "cell_type": "code",
   "execution_count": 10,
   "metadata": {
    "collapsed": false
   },
   "outputs": [
    {
     "data": {
      "text/plain": [
       "'I ereht  olleH    hO'"
      ]
     },
     "execution_count": 10,
     "metadata": {},
     "output_type": "execute_result"
    }
   ],
   "source": [
    "###Reverse a string\n",
    "string = \"Oh    Hello  there I\"\n",
    "string[::-1]"
   ]
  },
  {
   "cell_type": "code",
   "execution_count": 11,
   "metadata": {
    "collapsed": false
   },
   "outputs": [
    {
     "data": {
      "text/plain": [
       "2"
      ]
     },
     "execution_count": 11,
     "metadata": {},
     "output_type": "execute_result"
    }
   ],
   "source": [
    "#### Find the number of n leter words in a string\n",
    "def n_words_func(mystring, n):\n",
    "    mylist = mystring.split()\n",
    "    count = 0\n",
    "    for words in mylist:\n",
    "        if len(words) == n:\n",
    "            count += 1\n",
    "    return count\n",
    "string = \"Oh    Hello  there I\"\n",
    "n_words_func(string, 5)"
   ]
  },
  {
   "cell_type": "code",
   "execution_count": 13,
   "metadata": {
    "collapsed": false
   },
   "outputs": [
    {
     "name": "stdout",
     "output_type": "stream",
     "text": [
      "True\n"
     ]
    }
   ],
   "source": [
    "###Write a function that takes a string consisting \n",
    "###of alphabetic characters as input argument and \n",
    "###returns True if the string is a palindrome. \n",
    "###A palindrome is a string which is the same backward or forward. \n",
    "###Note that capitalization does not matter here \n",
    "###i.e. a lower case character can be considered the same as an upper case character.\n",
    "\n",
    "def palindromefunc(mystring):\n",
    "    mynewstring = mystring.lower()\n",
    "    mystring2 = mynewstring[::-1]\n",
    "    return mynewstring ==  mystring2\n",
    "\n",
    "print(palindromefunc(\"abcCbA\"))\n",
    "\n",
    "\n",
    "################### Another way ###################\n",
    "def _is_palindrome_sample_(sample_string):\n",
    "    # Check if the inverted string  equals the original string\n",
    "    if str(sample_string).lower() == str(sample_string)[::-1].lower():\n",
    "        return True     # Sample string is a palindrome\n",
    "    else:\n",
    "        return False    # Sample string is not a palindrome"
   ]
  },
  {
   "cell_type": "code",
   "execution_count": 15,
   "metadata": {
    "collapsed": false
   },
   "outputs": [
    {
     "data": {
      "text/plain": [
       "False"
      ]
     },
     "execution_count": 15,
     "metadata": {},
     "output_type": "execute_result"
    }
   ],
   "source": [
    "####Write a function that takes a list of words \n",
    "###as an input argument and returns True if \n",
    "###the list is sorted and returns False otherwise.\n",
    "def is_sort_list_func(mylist):\n",
    "    mylist_copy = mylist.copy()\n",
    "    #mylist_copy = mylist[:]\n",
    "    mylist_copy.sort()\n",
    "    return mylist==mylist_copy\n",
    "list1 = [\"afd\", \"uyb\", \"mwv\", \"adj\"]\n",
    "is_sort_list_func(list1)"
   ]
  },
  {
   "cell_type": "code",
   "execution_count": 17,
   "metadata": {
    "collapsed": false
   },
   "outputs": [
    {
     "name": "stdout",
     "output_type": "stream",
     "text": [
      "6\n"
     ]
    }
   ],
   "source": [
    "###Write a function which returns the total number of vowels in an input string \n",
    "###which consists of alphabetic characters. Note that capitalization does not matter \n",
    "###here i.e. a lower case character should be considered the same as an upper case character.\n",
    "\n",
    "\n",
    "def num_vowels_func(mystring):\n",
    "    vowels = \"aeiou\"\n",
    "    count = 0\n",
    "    for char in vowels:\n",
    "        count += mystring.lower().count(char)\n",
    "    return count\n",
    "string = \"Write A function\"\n",
    "print(num_vowels_func(string))"
   ]
  },
  {
   "cell_type": "code",
   "execution_count": 18,
   "metadata": {
    "collapsed": false
   },
   "outputs": [
    {
     "name": "stdout",
     "output_type": "stream",
     "text": [
      "5\n"
     ]
    }
   ],
   "source": [
    "###Write a function that accepts a string and a character \n",
    "###as input and returns the number of times the character\n",
    "###is repeated in the string. Note that capitalization \n",
    "###does not matter here i.e. a lower case character should be \n",
    "###treated the same as an upper case character.\n",
    "\n",
    "def num_char_func(mystring, mycharacter):\n",
    "    mycharacter = mycharacter.lower()\n",
    "    return mystring.lower().count(mycharacter)\n",
    "string = \"Aeioudgjddmydiyd\"\n",
    "mychar = \"D\"\n",
    "print(num_char_func(string,mychar))"
   ]
  },
  {
   "cell_type": "code",
   "execution_count": 19,
   "metadata": {
    "collapsed": true
   },
   "outputs": [],
   "source": [
    "###Write a function that accepts a string and a character\n",
    "###as input and returns the count of all the words in the string \n",
    "###which start with the given character. Assume that capitalization \n",
    "###does not matter here. You can assume that the input string is a sentence \n",
    "###i.e. words are separated by spaces and consists of alphabetic characters.\n",
    "def num_words_func(mystring, mycharacter):\n",
    "    mycharacter = mycharacter.lower()\n",
    "    count = 0\n",
    "    mynewstring = mystring.lower()\n",
    "    mylist =  mynewstring.split()\n",
    "    for words in mylist:\n",
    "        if words[0] == mycharacter:\n",
    "            count += 1\n",
    "    return count"
   ]
  },
  {
   "cell_type": "code",
   "execution_count": 20,
   "metadata": {
    "collapsed": true
   },
   "outputs": [],
   "source": [
    "###Write a function which returns the number of words in the input string \n",
    "###which have more than 4 characters. Assume that the input string \n",
    "###consists of alphabetic characters separated by spaces and capitalization \n",
    "###does not matter i.e. an upper case character should be treated \n",
    "###the same as a lower case character.\n",
    "\n",
    "def num_words_myfunc(mystring):\n",
    "    mylist =  mystring.split()\n",
    "    count = 0\n",
    "    for words in mylist:\n",
    "        if len(words) > 4:\n",
    "            count += 1\n",
    "    return count"
   ]
  },
  {
   "cell_type": "code",
   "execution_count": 23,
   "metadata": {
    "collapsed": false
   },
   "outputs": [
    {
     "data": {
      "text/plain": [
       "'d'"
      ]
     },
     "execution_count": 23,
     "metadata": {},
     "output_type": "execute_result"
    }
   ],
   "source": [
    "###Write a function that takes a string consisting of alphabetic characters \n",
    "###as input argument and returns the most common character. Ignore white spaces \n",
    "###i.e. Do not count any white space as a character. Note that capitalization \n",
    "###does not matter here i.e. that a lower case character is equal to a upper case character. \n",
    "###In case of a tie between certain characters return the last character that has the most count\n",
    "\n",
    "def common_char(mystring):\n",
    "    mynewstring =  mystring.lower()\n",
    "    mynewstring = mynewstring.replace(\" \",\"\")\n",
    "    old_count = 0\n",
    "    for char in mynewstring:\n",
    "        new_count = mynewstring.count(char)\n",
    "        if new_count > old_count:\n",
    "            old_count = new_count\n",
    "            common_letter = char\n",
    "    return common_letter\n",
    "\n",
    "string = \"   Aeioudg    jddmydiyd\"\n",
    "common_char(string)"
   ]
  },
  {
   "cell_type": "code",
   "execution_count": 24,
   "metadata": {
    "collapsed": true
   },
   "outputs": [],
   "source": [
    "###Write a function which accepts an input string and returns a reverse \n",
    "###of the input string while the case for every single character is reversed. \n",
    "###The input string for this function would be a sentence (words separated by spaces) \n",
    "###consisting of alphabetic characters.\n",
    "def return_swap_func(mystring):\n",
    "    newstring = mystring.swapcase()\n",
    "    return newstring[::-1]\n",
    "\n",
    "string = \"   AeioDg    jddMydIyd\"\n",
    "return_swap_func(string)\n",
    "\n",
    "\n",
    "################### Another way ###################\n",
    "def _reverse_string_sample_(sample_string):\n",
    "    output = \"\"\n",
    "    i = -1\n",
    "    # iterate the list from end to the front\n",
    "    while i != (- (len(sample_string) + 1)):\n",
    "        output = output + sample_string[i].swapcase()\n",
    "        i = i - 1\n",
    "    return output"
   ]
  },
  {
   "cell_type": "code",
   "execution_count": 30,
   "metadata": {
    "collapsed": false
   },
   "outputs": [
    {
     "name": "stdout",
     "output_type": "stream",
     "text": [
      "['this', '', 'is', 'a', 'sample', '', '', 'test']\n"
     ]
    },
    {
     "data": {
      "text/plain": [
       "'siht  si a elpmas   tset'"
      ]
     },
     "execution_count": 30,
     "metadata": {},
     "output_type": "execute_result"
    }
   ],
   "source": [
    "####Write a function that accepts a string of words separated by spaces \n",
    "###consisting of alphabetic characters and returns a string such that \n",
    "####each word in the input string is reversed while the order of the \n",
    "####words in the input string is preserved. The length of the input string \n",
    "####must be equal to the length of the output string i.e. there should be \n",
    "####no extra trailing or leading spaces in your output string.\n",
    "\n",
    "\n",
    "def revese_only_words(mystring):\n",
    "    mylist = mystring.split(\" \")\n",
    "    print(mylist)\n",
    "    mystr = \"\"\n",
    "    for words in mylist:\n",
    "        mystr += words[::-1]+\" \"\n",
    "    return mystr.rstrip()\n",
    "string = \"this  is a sample   test\"\n",
    "revese_only_words(string)\n",
    "        "
   ]
  },
  {
   "cell_type": "code",
   "execution_count": 31,
   "metadata": {
    "collapsed": true
   },
   "outputs": [],
   "source": [
    "###Write a function named find_mismatch that accepts two strings as input arguments and returns:\n",
    "\n",
    "## 0 if the two strings match exactly.\n",
    "## 1 if the two strings have the same length and mismatch in only one character.\n",
    "## 2 if the two strings do not have the same length or mismatch in two or more characters.\n",
    "## Capital letters are considered the same as lower case letters. \n",
    "\n",
    "\n",
    "def find_mismatch(s1,s2):\n",
    "    if len(s1) != len(s2):\n",
    "        return 2\n",
    "    s1=s1.lower()\n",
    "    s2=s2.lower()\n",
    "    number_of_mismatches=0\n",
    "    for index in range(len(s1)):\n",
    "        if s1[index] != s2[index]:\n",
    "            number_of_mismatches=number_of_mismatches+1\n",
    "            if number_of_mismatches>1:\n",
    "                return 2\n",
    "    return number_of_mismatches"
   ]
  },
  {
   "cell_type": "code",
   "execution_count": 32,
   "metadata": {
    "collapsed": true
   },
   "outputs": [],
   "source": [
    "###Write a function named single_insert_or_delete that accepts two strings as input arguments and returns:\n",
    "\n",
    "# 0 if the two strings match exactly.\n",
    "# 1 if the first string can become the same as the second string by inserting or deleting a single character. \n",
    "# Notice that inserting and deleting a character is not the same as replacing a character.\n",
    "# 2 otherwise\n",
    "# Capital letters are considered the same as lower case letters.\n",
    "\n",
    "def single_insert_or_delete(s1,s2):\n",
    "    s1=s1.lower()\n",
    "    s2=s2.lower()\n",
    "    if s1==s2:\n",
    "        return 0\n",
    "    if abs(len(s1)-len(s2))!=1:\n",
    "        return 2\n",
    "\n",
    "    if len(s1)>len(s2):\n",
    "        for k in range(len(s2)):\n",
    "            if s1[k]!=s2[k]:\n",
    "                if s1[k+1:]==s2[k:]:\n",
    "                    return 1\n",
    "                else:\n",
    "                    return 2\n",
    "        return 1\n",
    "    else: \n",
    "        for k in range(len(s1)):\n",
    "            if s1[k]!=s2[k]:\n",
    "                if s1[k:]==s2[k+1:]:\n",
    "                    return 1\n",
    "                else:\n",
    "                    return 2\n",
    "        return 1"
   ]
  },
  {
   "cell_type": "code",
   "execution_count": 40,
   "metadata": {
    "collapsed": false
   },
   "outputs": [
    {
     "name": "stdout",
     "output_type": "stream",
     "text": [
      "hellothere\n"
     ]
    },
    {
     "data": {
      "text/plain": [
       "6"
      ]
     },
     "execution_count": 40,
     "metadata": {},
     "output_type": "execute_result"
    }
   ],
   "source": [
    "#### count consonant in a string\n",
    "\n",
    "\n",
    "\n",
    "#### Write a function named count_consonants\n",
    "###that receives a string as parameter and returns\n",
    "###the total count of the consonants in the string.\n",
    "###Consonants are all the characters in the english\n",
    "###alphabet except for 'a', 'e', 'i', 'o', 'u'. If the same \n",
    "###consonant repeats multiple times you should count all of them. \n",
    "###Note that capitalization and punctuation does not matter here \n",
    "###i.e. a lower case character should be considered the same as an upper case character.\n",
    "\n",
    "\n",
    "def consonants_count(mystring):\n",
    "    mystringnew = mystring.replace(\" \",\"\")\n",
    "    mystringnew = mystringnew.lower()\n",
    "    print(mystringnew)\n",
    "    vowels = \"aeiou\"\n",
    "    count = 0\n",
    "    for char in mystringnew:\n",
    "        if char not in vowels:\n",
    "            count += 1\n",
    "    return count\n",
    "mystring =\"   Hello   There\"\n",
    "consonants_count(mystring)"
   ]
  },
  {
   "cell_type": "code",
   "execution_count": 41,
   "metadata": {
    "collapsed": false
   },
   "outputs": [
    {
     "data": {
      "text/plain": [
       "3"
      ]
     },
     "execution_count": 41,
     "metadata": {},
     "output_type": "execute_result"
    }
   ],
   "source": [
    "#### check if isograms \n",
    "\n",
    "def isograms(mystr):\n",
    "    mystr.lower()\n",
    "    for char in mystr:\n",
    "        if mystr.count(char) > 1:\n",
    "            return False\n",
    "    return True\n",
    "    \n",
    "def count_isograms(mylist):\n",
    "    count = 0\n",
    "    for elements in mylist:\n",
    "        if isograms(elements): \n",
    "            count += 1\n",
    "    return count\n",
    "\n",
    "mylist = [\"isograms\", \"and\", \"\", \"isogram\"]\n",
    "count_isograms(mylist)\n"
   ]
  },
  {
   "cell_type": "code",
   "execution_count": 46,
   "metadata": {
    "collapsed": false
   },
   "outputs": [
    {
     "data": {
      "text/plain": [
       "['rats', 'god', 'dog', 'arts', 'star', 'rats']"
      ]
     },
     "execution_count": 46,
     "metadata": {},
     "output_type": "execute_result"
    }
   ],
   "source": [
    "# Two words are anagrams if they have the exact same letters.\n",
    "\n",
    "# Example anagrams:\n",
    "# dog, god\n",
    "# act, cat\n",
    "# add, dad\n",
    "# rats, arts\n",
    "# NOT: ada, dad\n",
    "# NOT: dog, dog\n",
    "\n",
    "# Write a function find_anagrams that returns a list of the strings which\n",
    "# are anagrams of another word in an input list.\n",
    "\n",
    "#Example:\n",
    "#find_anagrams(['bat', 'bat', 'rats', 'god', 'dog', 'cat', 'arts', 'star', 'rats'])\n",
    "#=> ['rats', 'god', 'dog', 'arts', 'star']\n",
    "\n",
    "\n",
    "\n",
    "def anagramcheck(myword1, myword2):\n",
    "    if myword1 == myword2:\n",
    "        return False\n",
    "    if sorted(myword1) == sorted(myword2):\n",
    "        return True\n",
    "    else:\n",
    "        return False\n",
    "    \n",
    "\n",
    "def find_anagrams(mylist):\n",
    "    output_list = []\n",
    "    num_words = len(mylist)\n",
    "    for indices1 in range(num_words):\n",
    "        for indices2 in range(num_words):\n",
    "            if indices1 != indices2:\n",
    "                if anagramcheck(mylist[indices1],mylist[indices2]):\n",
    "                    output_list.append(mylist[indices1])\n",
    "                    break\n",
    "    return output_list\n",
    "            \n",
    "find_anagrams(['bat', 'bat', 'rats', 'god', 'dog', 'cat', 'arts', 'star', 'rats'])       "
   ]
  },
  {
   "cell_type": "code",
   "execution_count": null,
   "metadata": {
    "collapsed": true
   },
   "outputs": [],
   "source": []
  }
 ],
 "metadata": {
  "anaconda-cloud": {},
  "kernelspec": {
   "display_name": "Python [default]",
   "language": "python",
   "name": "python3"
  },
  "language_info": {
   "codemirror_mode": {
    "name": "ipython",
    "version": 3
   },
   "file_extension": ".py",
   "mimetype": "text/x-python",
   "name": "python",
   "nbconvert_exporter": "python",
   "pygments_lexer": "ipython3",
   "version": "3.5.2"
  }
 },
 "nbformat": 4,
 "nbformat_minor": 1
}
