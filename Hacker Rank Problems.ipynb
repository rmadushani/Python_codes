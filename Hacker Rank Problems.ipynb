{
 "cells": [
  {
   "cell_type": "code",
   "execution_count": 40,
   "metadata": {
    "collapsed": false
   },
   "outputs": [
    {
     "name": "stdout",
     "output_type": "stream",
     "text": [
      "AB\n",
      "CA\n",
      "AD\n"
     ]
    }
   ],
   "source": [
    "### Merge the Tools!\n",
    "\n",
    "\n",
    "def merge_the_tools(string, k):\n",
    "    n = len(string)\n",
    "    if n > 10**4 or n < 1:\n",
    "        return None\n",
    "    if k > n or k < 1:\n",
    "        return None\n",
    "    if len(string)%k != 0:\n",
    "        return None\n",
    "    #m = int(len(string)/k)\n",
    "    mylist = []\n",
    "    for i in range(0,n,k):\n",
    "        mynewstr = string[i:(i+k)]\n",
    "        mylist.append(mynewstr)\n",
    "    #mynewlist = []\n",
    "    for elements in mylist:\n",
    "        mystr = \"\"\n",
    "        for j in elements:\n",
    "            if j not in mystr:\n",
    "                mystr += j\n",
    "        #mynewlist.append(mystr)\n",
    "        print(mystr)\n",
    "    #return mynewlist\n",
    "            \n",
    "string = \"AABCAAADA\"\n",
    "k = 3\n",
    "merge_the_tools(string, k)\n",
    "    \n",
    "    "
   ]
  },
  {
   "cell_type": "code",
   "execution_count": 106,
   "metadata": {
    "collapsed": false,
    "scrolled": true
   },
   "outputs": [
    {
     "name": "stdout",
     "output_type": "stream",
     "text": [
      "Stuart 12\n"
     ]
    }
   ],
   "source": [
    "def minion_game(string):\n",
    "    vowels = \"aeiou\".swapcase()\n",
    "    consonants = \"bcdfghjklmnpqrstvwxyz\".swapcase()\n",
    "    stuwart = 0\n",
    "    kevin = 0\n",
    "    n = len(string)\n",
    "    for indices in range(n):\n",
    "    #indices = 1\n",
    "        char = string[indices]\n",
    "        #print(char)\n",
    "        if char in vowels:\n",
    "            kevin += 1\n",
    "            if indices != (n-1):\n",
    "                j = indices\n",
    "                for j in range(indices+1, n):\n",
    "                    mystr = string[indices:j+1]\n",
    "                    kevin += 1\n",
    "            #print(kevin)\n",
    "        else:\n",
    "            stuwart += 1\n",
    "            if indices != (n-1):\n",
    "                jj = indices\n",
    "                for jj in range(indices+1, n):\n",
    "                    mystrnew = string[indices:(jj+1)]\n",
    "                    stuwart += 1\n",
    "                    #print(stuwart)\n",
    "                \n",
    "    if kevin > stuwart:\n",
    "        print(\"Kevin\", kevin)\n",
    "    elif stuwart > kevin:\n",
    "        print(\"Stuart\", stuwart)\n",
    "    else:\n",
    "        print(\"Draw\")\n",
    "                \n",
    "            \n",
    "string = \"BANANA\"  \n",
    "minion_game(string)\n",
    "            \n",
    "            \n"
   ]
  },
  {
   "cell_type": "code",
   "execution_count": 112,
   "metadata": {
    "collapsed": false
   },
   "outputs": [
    {
     "name": "stdout",
     "output_type": "stream",
     "text": [
      "Stuart 12\n"
     ]
    }
   ],
   "source": [
    "def minion_game(string):\n",
    "    vowels = \"AEIOU\"\n",
    "    stuart = 0\n",
    "    kevin = 0\n",
    "    n = len(string)\n",
    "    for indices in range(n):\n",
    "        char = string[indices]\n",
    "        if char in vowels:\n",
    "            kevin += len(string[indices:])\n",
    "        else:\n",
    "            stuart += len(string[indices:])\n",
    "            \n",
    "    if kevin > stuart:\n",
    "        print(\"Kevin\", kevin)\n",
    "    elif stuart > kevin:\n",
    "        print(\"Stuart\", stuart)\n",
    "    else:\n",
    "        print(\"Draw\")\n",
    "                \n",
    "            \n",
    "string = \"BANANA\"  \n",
    "minion_game(string)\n",
    "            \n",
    "    \n",
    "    "
   ]
  },
  {
   "cell_type": "code",
   "execution_count": null,
   "metadata": {
    "collapsed": false
   },
   "outputs": [],
   "source": []
  },
  {
   "cell_type": "code",
   "execution_count": null,
   "metadata": {
    "collapsed": false
   },
   "outputs": [],
   "source": []
  },
  {
   "cell_type": "code",
   "execution_count": null,
   "metadata": {
    "collapsed": false
   },
   "outputs": [],
   "source": []
  },
  {
   "cell_type": "code",
   "execution_count": null,
   "metadata": {
    "collapsed": false
   },
   "outputs": [],
   "source": []
  },
  {
   "cell_type": "code",
   "execution_count": null,
   "metadata": {
    "collapsed": false
   },
   "outputs": [],
   "source": []
  },
  {
   "cell_type": "code",
   "execution_count": null,
   "metadata": {
    "collapsed": false
   },
   "outputs": [],
   "source": []
  },
  {
   "cell_type": "code",
   "execution_count": null,
   "metadata": {
    "collapsed": true
   },
   "outputs": [],
   "source": []
  }
 ],
 "metadata": {
  "kernelspec": {
   "display_name": "Python [default]",
   "language": "python",
   "name": "python3"
  },
  "language_info": {
   "codemirror_mode": {
    "name": "ipython",
    "version": 3
   },
   "file_extension": ".py",
   "mimetype": "text/x-python",
   "name": "python",
   "nbconvert_exporter": "python",
   "pygments_lexer": "ipython3",
   "version": "3.5.2"
  }
 },
 "nbformat": 4,
 "nbformat_minor": 1
}
