{
 "cells": [
  {
   "cell_type": "code",
   "execution_count": 15,
   "metadata": {
    "collapsed": false
   },
   "outputs": [
    {
     "data": {
      "text/plain": [
       "[2, 1]"
      ]
     },
     "execution_count": 15,
     "metadata": {},
     "output_type": "execute_result"
    }
   ],
   "source": [
    "#### Write a function named find_word_horizontal that accepts \n",
    "###a 2-dimensional list of characters (like a crossword puzzle) \n",
    "####and a string (word) as input arguments. This function searches \n",
    "####the rows of the 2d list to find a match for the word. If a match is found, \n",
    "####this functions returns a list containing row index and column index of \n",
    "####the start of the match, otherwise it returns the value None (no quotations).\n",
    "\n",
    "###Note: In case of multiple matches only return the match with lower row index. \n",
    "####If you find two matches in the same row then return the match with lower column index.\n",
    "\n",
    "\n",
    "\n",
    "def find_word_horizontal(my2Dlist, myword):\n",
    "    numrows = len(my2Dlist)\n",
    "    for indices in range(numrows):\n",
    "        mystr = \"\".join(my2Dlist[indices])\n",
    "        if myword in mystr:\n",
    "            row_index = indices\n",
    "            col_index = mystr.index(myword)\n",
    "            return [row_index, col_index]\n",
    "    return None\n",
    "    \n",
    "crosswords=[['s','d','o','g'],['c','u','c','m'],['a','c','a','t'],['t','e','t','k']]\n",
    "word='cat'\n",
    "find_word_horizontal(crosswords,word)\n"
   ]
  },
  {
   "cell_type": "code",
   "execution_count": 16,
   "metadata": {
    "collapsed": true
   },
   "outputs": [],
   "source": [
    "################### Another way ###################\n",
    "def _find_word_horizontal(crosswords,word):\n",
    "    if not crosswords or not word : # if empty then return None\n",
    "        return None\n",
    "    for index,row in enumerate(crosswords):\n",
    "        temp_str=''.join(row)\n",
    "        if temp_str.find(word)>=0:\n",
    "            return [index,temp_str.find(word)]\n",
    "    return None\n",
    "\n"
   ]
  },
  {
   "cell_type": "code",
   "execution_count": 19,
   "metadata": {
    "collapsed": false
   },
   "outputs": [
    {
     "data": {
      "text/plain": [
       "1"
      ]
     },
     "execution_count": 19,
     "metadata": {},
     "output_type": "execute_result"
    }
   ],
   "source": [
    "mystr = \"acatvcncat\"\n",
    "mystr.find(\"cat\")"
   ]
  },
  {
   "cell_type": "code",
   "execution_count": 32,
   "metadata": {
    "collapsed": false
   },
   "outputs": [
    {
     "data": {
      "text/plain": [
       "[1, 0]"
      ]
     },
     "execution_count": 32,
     "metadata": {},
     "output_type": "execute_result"
    }
   ],
   "source": [
    "def find_word_vertical(crosswords,word):\n",
    "    numcols = len(crosswords[0])\n",
    "    for indices in range(numcols-1):\n",
    "        mystr = \"\"\n",
    "        for innerlists in crosswords:\n",
    "            mystr += innerlists[indices]\n",
    "        if word in mystr:\n",
    "            row_index = mystr.index(word)\n",
    "            col_index = indices\n",
    "            return [row_index, col_index]\n",
    "    return None\n",
    "        \n",
    "crosswords=[['s','d','o','g'],['c','u','c','m'],['a','c','a','t'],['t','e','t','k']]\n",
    "word='cat'\n",
    "find_word_vertical(crosswords,word)          "
   ]
  },
  {
   "cell_type": "code",
   "execution_count": 33,
   "metadata": {
    "collapsed": true
   },
   "outputs": [],
   "source": [
    "################### Another way ###################\n",
    "def _find_word_vertical(crosswords,word):\n",
    "    if not crosswords or not word:\n",
    "        return None    \n",
    "    number_of_columns=len(crosswords[0])\n",
    "    for col_index in range (number_of_columns):\n",
    "        temp_str=''\n",
    "        for row_index in range(len(crosswords)):\n",
    "            temp_str=temp_str+crosswords[row_index][col_index]\n",
    "        if temp_str.find(word)>=0:\n",
    "            return [temp_str.find(word),col_index]\n",
    "    return None"
   ]
  },
  {
   "cell_type": "code",
   "execution_count": 40,
   "metadata": {
    "collapsed": false
   },
   "outputs": [
    {
     "name": "stdout",
     "output_type": "stream",
     "text": [
      "[7, 2, 3, 4]\n"
     ]
    }
   ],
   "source": [
    "mylist = [1,2,3,4]\n",
    "mylist[0]=7\n",
    "print(mylist)"
   ]
  },
  {
   "cell_type": "code",
   "execution_count": 41,
   "metadata": {
    "collapsed": false
   },
   "outputs": [
    {
     "data": {
      "text/plain": [
       "1"
      ]
     },
     "execution_count": 41,
     "metadata": {},
     "output_type": "execute_result"
    }
   ],
   "source": [
    "mystr = 'banana'\n",
    "myword = 'ana'\n",
    "mystr.count(myword)"
   ]
  },
  {
   "cell_type": "code",
   "execution_count": null,
   "metadata": {
    "collapsed": true
   },
   "outputs": [],
   "source": []
  }
 ],
 "metadata": {
  "anaconda-cloud": {},
  "kernelspec": {
   "display_name": "Python [default]",
   "language": "python",
   "name": "python3"
  },
  "language_info": {
   "codemirror_mode": {
    "name": "ipython",
    "version": 3
   },
   "file_extension": ".py",
   "mimetype": "text/x-python",
   "name": "python",
   "nbconvert_exporter": "python",
   "pygments_lexer": "ipython3",
   "version": "3.5.2"
  }
 },
 "nbformat": 4,
 "nbformat_minor": 1
}
