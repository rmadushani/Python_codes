{
 "cells": [
  {
   "cell_type": "code",
   "execution_count": 30,
   "metadata": {
    "collapsed": false
   },
   "outputs": [
    {
     "ename": "AttributeError",
     "evalue": "'dict' object has no attribute 'has_key'",
     "output_type": "error",
     "traceback": [
      "\u001b[0;31m---------------------------------------------------------------------------\u001b[0m",
      "\u001b[0;31mAttributeError\u001b[0m                            Traceback (most recent call last)",
      "\u001b[0;32m<ipython-input-30-f0d2fb419901>\u001b[0m in \u001b[0;36m<module>\u001b[0;34m()\u001b[0m\n\u001b[1;32m      1\u001b[0m \u001b[0mdi\u001b[0m\u001b[0;34m=\u001b[0m\u001b[0;34m{\u001b[0m\u001b[0;34m\"uno\"\u001b[0m\u001b[0;34m:\u001b[0m\u001b[0;34m[\u001b[0m\u001b[0;34m\"one\"\u001b[0m\u001b[0;34m,\u001b[0m\u001b[0;36m1\u001b[0m\u001b[0;34m]\u001b[0m\u001b[0;34m,\u001b[0m\u001b[0;34m\"dos\"\u001b[0m\u001b[0;34m:\u001b[0m\u001b[0;34m[\u001b[0m\u001b[0;34m\"two\"\u001b[0m\u001b[0;34m,\u001b[0m\u001b[0;36m2\u001b[0m\u001b[0;34m]\u001b[0m\u001b[0;34m,\u001b[0m\u001b[0;34m'3'\u001b[0m\u001b[0;34m:\u001b[0m\u001b[0;34m[\u001b[0m\u001b[0;34m\"tres\"\u001b[0m\u001b[0;34m,\u001b[0m\u001b[0;34m\"three\"\u001b[0m\u001b[0;34m]\u001b[0m\u001b[0;34m}\u001b[0m\u001b[0;34m\u001b[0m\u001b[0m\n\u001b[0;32m----> 2\u001b[0;31m \u001b[0mdi\u001b[0m\u001b[0;34m.\u001b[0m\u001b[0mhas_key\u001b[0m\u001b[0;34m(\u001b[0m\u001b[0;34m'dos'\u001b[0m\u001b[0;34m)\u001b[0m\u001b[0;34m\u001b[0m\u001b[0m\n\u001b[0m",
      "\u001b[0;31mAttributeError\u001b[0m: 'dict' object has no attribute 'has_key'"
     ]
    }
   ],
   "source": [
    "di={\"uno\":[\"one\",1],\"dos\":[\"two\",2],'3':[\"tres\",\"three\"]}\n",
    "di.has_key('dos') ### use 'dos' in di instead"
   ]
  },
  {
   "cell_type": "code",
   "execution_count": 23,
   "metadata": {
    "collapsed": false
   },
   "outputs": [
    {
     "name": "stdout",
     "output_type": "stream",
     "text": [
      "['two', 2]\n"
     ]
    }
   ],
   "source": [
    "d={\"uno\":[\"one\",1],\"dos\":[\"two\",2],3:[\"tres\",\"three\"]}\n",
    "print (d.pop(\"dos\")) "
   ]
  },
  {
   "cell_type": "code",
   "execution_count": 7,
   "metadata": {
    "collapsed": false
   },
   "outputs": [
    {
     "data": {
      "text/plain": [
       "['age', 'birthday', 'location', 'name']"
      ]
     },
     "execution_count": 7,
     "metadata": {},
     "output_type": "execute_result"
    }
   ],
   "source": [
    "### Write a function that accepts a dictionary as input \n",
    "###and returns a sorted list of all the keys in the dictionary.\n",
    "\n",
    "def sorted_keys(mydict):\n",
    "    mykeylist = list(mydict.keys())\n",
    "    mykeylist.sort()\n",
    "    return mykeylist\n",
    "\n",
    "\n",
    "mydict = {'age': 'Sebastian', 'birthday': 1771, 'name': 'Yohan', 'location': 'bach'}\n",
    "sorted_keys(mydict)\n"
   ]
  },
  {
   "cell_type": "code",
   "execution_count": 8,
   "metadata": {
    "collapsed": true
   },
   "outputs": [],
   "source": [
    "### Write a function that accepts a dictionary as input \n",
    "####and returns a sorted list of all the values in the dictionary. \n",
    "####Assume that the values of this dictionary are just integers.\n",
    "\n",
    "\n",
    "def sorted_values(mydict):\n",
    "    mykeylist = list(mydict.values())\n",
    "    mykeylist.sort()\n",
    "    return mykeylist\n",
    "\n"
   ]
  },
  {
   "cell_type": "code",
   "execution_count": 17,
   "metadata": {
    "collapsed": false
   },
   "outputs": [
    {
     "data": {
      "text/plain": [
       "['Jane', 'Sebastian']"
      ]
     },
     "execution_count": 17,
     "metadata": {},
     "output_type": "execute_result"
    }
   ],
   "source": [
    "####Write a function that accepts a dictionary as input which \n",
    "####contains the names and grades of students \n",
    "####(The keys are student names and the values are lists of grades for 3 exams \n",
    "##33(1 Dimensional list)) and returns the list of names for those students whose grade \n",
    "###3on all three exams is greater than or equal to 78.\n",
    "\n",
    "def myfunc(mydict):\n",
    "    key_list = list(mydict.keys())\n",
    "    sudents = []\n",
    "    for keys in key_list:\n",
    "        marks_list = mydict[keys]\n",
    "        if marks_list[0] >= 78 and marks_list[1] >= 78 and marks_list[2] >= 78:\n",
    "            sudents.append(keys)\n",
    "    return sudents\n",
    "    \n",
    "\n",
    "mydict = {'Jhone': [43, 56,79],'Sebastian':[81,95,79], 'Yohan':[75,59,65], 'Jane':[98,87,95]}\n",
    "myfunc(mydict)\n",
    "\n",
    "\n"
   ]
  },
  {
   "cell_type": "code",
   "execution_count": 18,
   "metadata": {
    "collapsed": false
   },
   "outputs": [],
   "source": [
    "################### Sample Solution ###################\n",
    "def _dictionary_names_grades_sample_(sample_dictionary):\n",
    "    output_list = []\n",
    "    keys = sample_dictionary.keys()\n",
    "    for k in keys:\n",
    "        each_list = sample_dictionary[k]\n",
    "        grade1, grade2, grade3 = each_list[0], each_list[1], each_list[2]\n",
    "        if grade1 >= 78 and grade2 >= 78 and grade3 >= 78:\n",
    "            output_list.append(k)\n",
    "    return output_list"
   ]
  },
  {
   "cell_type": "code",
   "execution_count": 20,
   "metadata": {
    "collapsed": false
   },
   "outputs": [
    {
     "data": {
      "text/plain": [
       "['kitten', 'rabbit']"
      ]
     },
     "execution_count": 20,
     "metadata": {},
     "output_type": "execute_result"
    }
   ],
   "source": [
    "###Write a function which accepts a dictionary and an integer \n",
    "###as input and returns an ascending sorted list of all the keys \n",
    "###whose values contain the input value. Note that the keys of \n",
    "####this dictionary are strings while the values of this dictionary are 1 Dimensional lists of integers.\n",
    "\n",
    "\n",
    "def myfunc(mydict,myval):\n",
    "    key_list = list(mydict.keys())\n",
    "    mylist = []\n",
    "    for keys in key_list:\n",
    "        myval_list = mydict.get(keys)\n",
    "        if myval in myval_list:\n",
    "            mylist.append(keys)\n",
    "    mylist.sort()\n",
    "    return mylist\n",
    "            \n",
    "        \n",
    "sample = {\"rabbit\" : [1, 2, 3],\n",
    "          \"kitten\" : [2, 2, 6],\n",
    "          \"lioness\": [6, 8, 9]}        \n",
    "\n",
    "\n",
    "myfunc(sample,2)\n"
   ]
  },
  {
   "cell_type": "code",
   "execution_count": 37,
   "metadata": {
    "collapsed": false
   },
   "outputs": [
    {
     "data": {
      "text/plain": [
       "{'a': 9,\n",
       " 'c': 3,\n",
       " 'd': 2,\n",
       " 'e': 6,\n",
       " 'f': 2,\n",
       " 'g': 2,\n",
       " 'h': 1,\n",
       " 'i': 6,\n",
       " 'k': 1,\n",
       " 'l': 1,\n",
       " 'm': 1,\n",
       " 'n': 9,\n",
       " 'o': 4,\n",
       " 'p': 1,\n",
       " 'r': 7,\n",
       " 's': 5,\n",
       " 't': 13,\n",
       " 'u': 5,\n",
       " 'w': 1,\n",
       " 'y': 1}"
      ]
     },
     "execution_count": 37,
     "metadata": {},
     "output_type": "execute_result"
    }
   ],
   "source": [
    "####Write a function that takes a string as input argument and returns\n",
    "###a dictionary of letter counts i.e. the keys of this dictionary should be \n",
    "###individual letters and the values should be the total count of those letters. \n",
    "###You should ignore white spaces and they should not be counted as a character. \n",
    "###Also note that a small letter character is equal to a capital letter character.\n",
    "\n",
    "def letter_count(mystring):\n",
    "    mystring = mystring.replace(\" \",\"\")\n",
    "    mystring = mystring.lower()\n",
    "    mydict = {}\n",
    "    for char in mystring:\n",
    "        if char not in mydict: ### no need to check because the key is unique in a dictionary\n",
    "            mydict[char] = mystring.count(char)\n",
    "    return mydict\n",
    "\n",
    "mystring = \"Write a function that takes a string as input argument and returns a dictionary of letter counts\"\n",
    "letter_count(mystring)"
   ]
  },
  {
   "cell_type": "code",
   "execution_count": 38,
   "metadata": {
    "collapsed": true
   },
   "outputs": [],
   "source": [
    "################### Sample Solution ###################\n",
    "def _dictionary_of_letter_counts_sample_(sample_string):\n",
    "    stripped_string = sample_string.replace(\" \", \"\")        # remove all white spaces\n",
    "    lowercase_stripped_string = stripped_string.lower()     # convert to lower case\n",
    "    sample_dictionary = {}\n",
    "    # Iterate through the lowercase stripped string and set each\n",
    "    # character as a key and its count as the value\n",
    "    for character in lowercase_stripped_string:\n",
    "        sample_dictionary[character] = lowercase_stripped_string.count(character)\n",
    "    return sample_dictionary\n",
    "\n"
   ]
  },
  {
   "cell_type": "code",
   "execution_count": 39,
   "metadata": {
    "collapsed": true
   },
   "outputs": [],
   "source": [
    "###Write a function that takes a string as input argument \n",
    "###and returns a dictionary of vowel counts i.e. the keys \n",
    "###of this dictionary should be individual vowels and the values \n",
    "###should be the total count of those vowels. You should ignore \n",
    "###white spaces and they should not be counted as a character. \n",
    "###Also note that a small letter vowel is equal to a capital letter vowel.\n",
    "\n",
    "def vowels_count(mystring):\n",
    "    vowel_list = [\"a\",\"e\",\"i\",\"o\",\"u\"]\n",
    "    mystring = mystring.replace(\" \",\"\")\n",
    "    mystring = mystring.lower()\n",
    "    mydict = {}\n",
    "    for char in mystring:\n",
    "        if char in vowel_list:\n",
    "            mydict[char] = mystring.count(char)\n",
    "    return mydict\n",
    "            \n",
    "    \n",
    "    \n",
    "\n",
    "\n"
   ]
  },
  {
   "cell_type": "code",
   "execution_count": 41,
   "metadata": {
    "collapsed": true
   },
   "outputs": [],
   "source": [
    "###Write a function that takes a string of words as input \n",
    "###argument and returns a dictionary of word counts. \n",
    "###The keys of this dictionary should be the unique words and \n",
    "###the values should be the total count of those words. \n",
    "###Assume that characters are not case sensitive.\n",
    "\n",
    "\n",
    "def count_unique_words(mystring):\n",
    "    mystring = mystring.lower()\n",
    "    #mystring = mystring.replace(\".\",\"\")\n",
    "    #mystring = mystring.replace(\"!\",\"\")\n",
    "    #mystring = mystring.replace(\"?\",\"\")\n",
    "    mywordslist = mynewstring.split()\n",
    "    mydict = {}\n",
    "    for words in mywordslist:\n",
    "        mydict[words] = mywordslist.count(words)\n",
    "    return mydict"
   ]
  },
  {
   "cell_type": "code",
   "execution_count": 59,
   "metadata": {
    "collapsed": false
   },
   "outputs": [
    {
     "data": {
      "text/plain": [
       "'four seven two one'"
      ]
     },
     "execution_count": 59,
     "metadata": {},
     "output_type": "execute_result"
    }
   ],
   "source": [
    "### Write a function that takes an integer as input argument \n",
    "###and returns the integer using words. For example if \n",
    "###the input is 4721 then the function should return the string \"four seven two one\". '\n",
    "##Note that there should be only one space between the words and they should be all \n",
    "###lowercased in the string that you return.\n",
    "\n",
    "def number_to_words(mynumber):\n",
    "    mydict = {\"1\":\"one\", \"2\":\"two\", \"3\":\"three\",\"4\":\"four\",\"5\":\"five\",\"6\":\"six\",\"7\":\"seven\",\"8\":\"eight\",\"9\":\"nine\"}\n",
    "    mystring_number = str(mynumber)\n",
    "    myint_list = list(mystring_number)\n",
    "    mylist = []\n",
    "    for val in myint_list:\n",
    "        mylist.append(mydict[val])\n",
    "    return \" \".join(mylist)\n",
    "\n",
    "#number_to_words(4721)\n",
    "\n",
    "def number_to_words(mynumber):\n",
    "    mydict = {\"1\":\"one\", \"2\":\"two\", \"3\":\"three\",\"4\":\"four\",\"5\":\"five\",\"6\":\"six\",\"7\":\"seven\",\"8\":\"eight\",\"9\":\"nine\"}\n",
    "    mystring_number = str(mynumber)\n",
    "    myint_list = list(mystring_number)\n",
    "    mystring = \"\"\n",
    "    for val in myint_list:\n",
    "        mystring += mydict[val] + \" \"\n",
    "    return mystring.strip(\" \")\n",
    "\n",
    "        \n",
    "number_to_words(4721)    \n",
    "\n",
    "\n",
    "\n"
   ]
  },
  {
   "cell_type": "code",
   "execution_count": 61,
   "metadata": {
    "collapsed": false
   },
   "outputs": [
    {
     "data": {
      "text/plain": [
       "'Tuesday'"
      ]
     },
     "execution_count": 61,
     "metadata": {},
     "output_type": "execute_result"
    }
   ],
   "source": [
    "########Write a function that accepts a string which contains a particular \n",
    "###3date from the Gregorian calendar. Your function should return what day of the week it was. \n",
    "\n",
    "###input: \"May 5 1992\"\n",
    "###output: \"Tuesday\"\n",
    "\n",
    "####Algorithm with sample example:\n",
    "\n",
    "### Assume that input was \"May 5 1992\"\n",
    "#day (d) = 5        ### It is the 5th day\n",
    "#month (m) = 3      ### (*** Count starts at March i.e March = 1, April = 2, ... January = 11, February = 12)\n",
    "#century (c) = 19   ### the first two characters of the century\n",
    "#year (y) = 92      ### Year is 1992 (*** if month is January or february decrease one year)\n",
    "### Formula and calculation\n",
    "#day of the week (w) = (d + floor(2.6m - 0.2) - 2c + y + floor(y/4) + floor(c/4)) modulo 7\n",
    "#after calculation we get, (w) = 2\n",
    "#Count for the day of the week starts at Sunday, i.e Sunday = 0, Monday = 1, Tuesday = 2, ... Saturday = 6\n",
    "\n",
    "def _day_of_the_week_sample_(string):\n",
    "    import math\n",
    "    my_month, day, year = string.split(\" \")\n",
    "    months = {\"March\": 1,\n",
    "              \"April\": 2,\n",
    "              \"May\": 3,\n",
    "              \"June\": 4,\n",
    "              \"July\": 5,\n",
    "              \"August\": 6,\n",
    "              \"September\": 7,\n",
    "              \"October\": 8,\n",
    "              \"November\": 9,\n",
    "              \"December\": 10,\n",
    "              \"January\": 11,\n",
    "              \"February\": 12}\n",
    "    weeks = {\"Sunday\": 0,\n",
    "            \"Monday\": 1,\n",
    "            \"Tuesday\": 2,\n",
    "            \"Wednesday\": 3,\n",
    "            \"Thursday\": 4,\n",
    "            \"Friday\": 5,\n",
    "            \"Saturday\": 6}\n",
    "    # Get the appropriate month as an int using a dictionary\n",
    "    month = months[my_month]\n",
    "    day = int(day)\n",
    "    # The first two characters of the year\n",
    "    century = int(year[0] + year[1])\n",
    "    # The last two characters of the year\n",
    "    year = int(year[2] + year[3])\n",
    "        # If month > 10 (i.e january or february then substract one year)\n",
    "    if month > 10:\n",
    "        year = year - 1\n",
    "    # Calculation\n",
    "    w = (day + math.floor(2.6*month - 0.2) -2*century + year + math.floor(year/4) + math.floor(century/4))%7\n",
    "    for day in weeks:\n",
    "        if weeks[day] == w:\n",
    "            return day\n",
    "\n",
    "\n",
    "_day_of_the_week_sample_(\"May 5 1992\")\n"
   ]
  },
  {
   "cell_type": "code",
   "execution_count": 69,
   "metadata": {
    "collapsed": false
   },
   "outputs": [
    {
     "name": "stdout",
     "output_type": "stream",
     "text": [
      "{'x': 'z', 'l': 'n', 'h': 'e', 'f': 'u', 'y': 'w', 'b': 'h', 'z': 'b', 'm': 'o', 'e': 'i', 'r': 'k', 'n': 'f', 'u': 'v', 'j': 'y', 's': 'r', 'g': 'm', 'v': 's', 'q': 'j', 'o': 'd', 't': 'c', 'a': 'p', 'c': 'q', 'p': 'x', 'd': 'g', 'i': 'a', 'k': 'l', 'w': 't'}\n"
     ]
    }
   ],
   "source": [
    "\n",
    "d = dict(zip('abcdefghijklmnopqrstuvwxyz','phqgiumeaylnofdxjkrcvstzwb'))\n",
    "print(d)"
   ]
  },
  {
   "cell_type": "code",
   "execution_count": 80,
   "metadata": {
    "collapsed": false
   },
   "outputs": [
    {
     "name": "stdout",
     "output_type": "stream",
     "text": [
      "{'x': 'p', 'i': 'e', 'f': 'n', 'y': 'j', 'b': 'z', 'z': 'x', 'm': 'g', 'e': 'h', 'h': 'b', 'n': 'l', 'u': 'f', 'c': 't', 's': 'v', 'g': 'd', 'v': 'u', 'q': 'c', 'o': 'm', 't': 'w', 'l': 'k', 'r': 's', 'a': 'i', 'p': 'a', 'd': 'o', 'j': 'q', 'k': 'r', 'w': 'y'}\n"
     ]
    }
   ],
   "source": [
    "###  Inverte the dictionary\n",
    "d = dict(zip('abcdefghijklmnopqrstuvwxyz','phqgiumeaylnofdxjkrcvstzwb'))\n",
    "d1 = {}\n",
    "mykeys = d.keys()\n",
    "for items in mykeys:\n",
    "    d1[d[items]]=items\n",
    "print(d1)\n",
    "    \n",
    "    \n",
    "    \n"
   ]
  },
  {
   "cell_type": "code",
   "execution_count": 100,
   "metadata": {
    "collapsed": false
   },
   "outputs": [
    {
     "data": {
      "text/plain": [
       "'defend the east wall of the castle'"
      ]
     },
     "execution_count": 100,
     "metadata": {},
     "output_type": "execute_result"
    }
   ],
   "source": [
    "#### cipher/dichiper code\n",
    "def cipher(text, cipher_alphabet, option='encipher'):\n",
    "    if option =='encipher':\n",
    "        output = \"\"\n",
    "        for char in text:\n",
    "            if char != \" \":\n",
    "                output += cipher_alphabet[char]\n",
    "            else:\n",
    "                output += \" \"\n",
    "        return output\n",
    "    \n",
    "    else:\n",
    "        decipher_alphabet = {}\n",
    "        mykeys = cipher_alphabet.keys()\n",
    "        for items in mykeys:\n",
    "            decipher_alphabet[cipher_alphabet[items]]=items\n",
    "        output = \"\"\n",
    "        for char in text:\n",
    "            if char != \" \":\n",
    "                output += decipher_alphabet[char]\n",
    "            else:\n",
    "                output += \" \"\n",
    "        return output\n",
    "    \n",
    "    \n",
    "d = dict(zip('abcdefghijklmnopqrstuvwxyz','phqgiumeaylnofdxjkrcvstzwb'))\n",
    "cipher('defend the east wall of the castle',d)\n",
    "\n",
    "cipher('giuifg cei iprc tpnn du cei qprcni',d, option = \"decipher\")"
   ]
  },
  {
   "cell_type": "code",
   "execution_count": null,
   "metadata": {
    "collapsed": false
   },
   "outputs": [],
   "source": [
    "\n",
    "\n"
   ]
  },
  {
   "cell_type": "code",
   "execution_count": null,
   "metadata": {
    "collapsed": true
   },
   "outputs": [],
   "source": []
  }
 ],
 "metadata": {
  "anaconda-cloud": {},
  "kernelspec": {
   "display_name": "Python [default]",
   "language": "python",
   "name": "python3"
  },
  "language_info": {
   "codemirror_mode": {
    "name": "ipython",
    "version": 3
   },
   "file_extension": ".py",
   "mimetype": "text/x-python",
   "name": "python",
   "nbconvert_exporter": "python",
   "pygments_lexer": "ipython3",
   "version": "3.5.2"
  }
 },
 "nbformat": 4,
 "nbformat_minor": 1
}
